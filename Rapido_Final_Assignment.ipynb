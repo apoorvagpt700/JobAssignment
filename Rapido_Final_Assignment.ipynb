{
 "cells": [
  {
   "cell_type": "markdown",
   "metadata": {},
   "source": [
    "### 1. Importing the required libraries and uploading the dataset"
   ]
  },
  {
   "cell_type": "code",
   "execution_count": 354,
   "metadata": {},
   "outputs": [],
   "source": [
    "# to import the required libraries\n",
    "\n",
    "import pandas as pd\n",
    "import numpy as np\n",
    "import datetime\n",
    "import matplotlib.pyplot as plt\n",
    "import seaborn as sns\n",
    "from sklearn import linear_model\n",
    "import statsmodels.api as sm\n",
    "\n",
    "# to upload the dataset\n",
    "\n",
    "Dataset = pd.read_excel('C:/Users/gargi/Documents/JobAssignment-master/Rapido Data Analyst Assignment DataSet.xlsx')"
   ]
  },
  {
   "cell_type": "markdown",
   "metadata": {},
   "source": [
    "### 2. Observing the dataset"
   ]
  },
  {
   "cell_type": "markdown",
   "metadata": {},
   "source": [
    "1. To check the number of rows and columns in dataset"
   ]
  },
  {
   "cell_type": "code",
   "execution_count": 320,
   "metadata": {},
   "outputs": [
    {
     "data": {
      "text/plain": [
       "10"
      ]
     },
     "execution_count": 320,
     "metadata": {},
     "output_type": "execute_result"
    }
   ],
   "source": [
    "total_rows=len(Dataset.axes[0])\n",
    "total_cols=len(Dataset.axes[1])\n",
    "total_rows\n",
    "total_cols"
   ]
  },
  {
   "cell_type": "markdown",
   "metadata": {},
   "source": [
    "**Findings:** *There are total 10 columns and 44,587 rows in the dataset*"
   ]
  },
  {
   "cell_type": "markdown",
   "metadata": {},
   "source": [
    "2. To check the missing values in each column\n"
   ]
  },
  {
   "cell_type": "code",
   "execution_count": 245,
   "metadata": {},
   "outputs": [
    {
     "data": {
      "text/plain": [
       "trip_id            0\n",
       "customer_id        0\n",
       "timestamp          0\n",
       "pick_lat           0\n",
       "pick_lng           0\n",
       "drop_lat           0\n",
       "drop_lng           0\n",
       "travel_distance    0\n",
       "travel_time        0\n",
       "trip_fare          0\n",
       "dtype: int64"
      ]
     },
     "execution_count": 245,
     "metadata": {},
     "output_type": "execute_result"
    }
   ],
   "source": [
    "Dataset.isna().sum()"
   ]
  },
  {
   "cell_type": "markdown",
   "metadata": {},
   "source": [
    "**Findings:** *There are no missing values in each column of the dataset*"
   ]
  },
  {
   "cell_type": "markdown",
   "metadata": {},
   "source": [
    "3. To check total number of distinct customers in the dataset"
   ]
  },
  {
   "cell_type": "code",
   "execution_count": 246,
   "metadata": {},
   "outputs": [
    {
     "data": {
      "text/plain": [
       "19139"
      ]
     },
     "execution_count": 246,
     "metadata": {},
     "output_type": "execute_result"
    }
   ],
   "source": [
    "Dataset['customer_id'].nunique()"
   ]
  },
  {
   "cell_type": "markdown",
   "metadata": {},
   "source": [
    "**Findings:** *There are total 19,139 unique customers who travelled*"
   ]
  },
  {
   "cell_type": "markdown",
   "metadata": {},
   "source": [
    "4. To check total number of distinct trips in the dataset"
   ]
  },
  {
   "cell_type": "code",
   "execution_count": 247,
   "metadata": {},
   "outputs": [
    {
     "data": {
      "text/plain": [
       "44587"
      ]
     },
     "execution_count": 247,
     "metadata": {},
     "output_type": "execute_result"
    }
   ],
   "source": [
    "Dataset['trip_id'].nunique()"
   ]
  },
  {
   "cell_type": "markdown",
   "metadata": {},
   "source": [
    "**Findings:** *There are total 44,587 unique trips and level of dataset is at trip_idl evel*"
   ]
  },
  {
   "cell_type": "markdown",
   "metadata": {},
   "source": [
    "### 3. Cleaning the dataset"
   ]
  },
  {
   "cell_type": "markdown",
   "metadata": {},
   "source": [
    "1. Convert timestamp into different date and time columns"
   ]
  },
  {
   "cell_type": "code",
   "execution_count": 321,
   "metadata": {},
   "outputs": [
    {
     "data": {
      "text/html": [
       "<div>\n",
       "<style scoped>\n",
       "    .dataframe tbody tr th:only-of-type {\n",
       "        vertical-align: middle;\n",
       "    }\n",
       "\n",
       "    .dataframe tbody tr th {\n",
       "        vertical-align: top;\n",
       "    }\n",
       "\n",
       "    .dataframe thead th {\n",
       "        text-align: right;\n",
       "    }\n",
       "</style>\n",
       "<table border=\"1\" class=\"dataframe\">\n",
       "  <thead>\n",
       "    <tr style=\"text-align: right;\">\n",
       "      <th></th>\n",
       "      <th>trip_id</th>\n",
       "      <th>customer_id</th>\n",
       "      <th>timestamp</th>\n",
       "      <th>pick_lat</th>\n",
       "      <th>pick_lng</th>\n",
       "      <th>drop_lat</th>\n",
       "      <th>drop_lng</th>\n",
       "      <th>travel_distance</th>\n",
       "      <th>travel_time</th>\n",
       "      <th>trip_fare</th>\n",
       "      <th>date</th>\n",
       "      <th>time</th>\n",
       "    </tr>\n",
       "  </thead>\n",
       "  <tbody>\n",
       "    <tr>\n",
       "      <th>0</th>\n",
       "      <td>ID001</td>\n",
       "      <td>CUST_001</td>\n",
       "      <td>2019-01-05 22:57:50.211</td>\n",
       "      <td>17.442705</td>\n",
       "      <td>17.442705</td>\n",
       "      <td>17.457829</td>\n",
       "      <td>17.457829</td>\n",
       "      <td>2.806</td>\n",
       "      <td>12.609667</td>\n",
       "      <td>37</td>\n",
       "      <td>2019-01-05</td>\n",
       "      <td>22:57:50.211000</td>\n",
       "    </tr>\n",
       "    <tr>\n",
       "      <th>1</th>\n",
       "      <td>ID002</td>\n",
       "      <td>CUST_002</td>\n",
       "      <td>2019-01-05 22:58:29.524</td>\n",
       "      <td>17.490189</td>\n",
       "      <td>17.490189</td>\n",
       "      <td>17.450548</td>\n",
       "      <td>17.450548</td>\n",
       "      <td>11.991</td>\n",
       "      <td>24.075200</td>\n",
       "      <td>119</td>\n",
       "      <td>2019-01-05</td>\n",
       "      <td>22:58:29.524000</td>\n",
       "    </tr>\n",
       "    <tr>\n",
       "      <th>2</th>\n",
       "      <td>ID003</td>\n",
       "      <td>CUST_003</td>\n",
       "      <td>2019-01-05 22:58:51.857</td>\n",
       "      <td>17.370108</td>\n",
       "      <td>17.370108</td>\n",
       "      <td>17.377041</td>\n",
       "      <td>17.377041</td>\n",
       "      <td>1.322</td>\n",
       "      <td>8.708300</td>\n",
       "      <td>27</td>\n",
       "      <td>2019-01-05</td>\n",
       "      <td>22:58:51.857000</td>\n",
       "    </tr>\n",
       "    <tr>\n",
       "      <th>3</th>\n",
       "      <td>ID004</td>\n",
       "      <td>CUST_004</td>\n",
       "      <td>2019-01-05 22:59:18.403</td>\n",
       "      <td>17.439314</td>\n",
       "      <td>17.439314</td>\n",
       "      <td>17.397131</td>\n",
       "      <td>17.397131</td>\n",
       "      <td>11.822</td>\n",
       "      <td>24.037550</td>\n",
       "      <td>121</td>\n",
       "      <td>2019-01-05</td>\n",
       "      <td>22:59:18.403000</td>\n",
       "    </tr>\n",
       "    <tr>\n",
       "      <th>4</th>\n",
       "      <td>ID005</td>\n",
       "      <td>CUST_005</td>\n",
       "      <td>2019-01-05 22:59:46.884</td>\n",
       "      <td>17.432325</td>\n",
       "      <td>17.432325</td>\n",
       "      <td>17.401625</td>\n",
       "      <td>17.401625</td>\n",
       "      <td>6.978</td>\n",
       "      <td>16.120867</td>\n",
       "      <td>58</td>\n",
       "      <td>2019-01-05</td>\n",
       "      <td>22:59:46.884000</td>\n",
       "    </tr>\n",
       "  </tbody>\n",
       "</table>\n",
       "</div>"
      ],
      "text/plain": [
       "  trip_id customer_id               timestamp   pick_lat   pick_lng  \\\n",
       "0   ID001    CUST_001 2019-01-05 22:57:50.211  17.442705  17.442705   \n",
       "1   ID002    CUST_002 2019-01-05 22:58:29.524  17.490189  17.490189   \n",
       "2   ID003    CUST_003 2019-01-05 22:58:51.857  17.370108  17.370108   \n",
       "3   ID004    CUST_004 2019-01-05 22:59:18.403  17.439314  17.439314   \n",
       "4   ID005    CUST_005 2019-01-05 22:59:46.884  17.432325  17.432325   \n",
       "\n",
       "    drop_lat   drop_lng  travel_distance  travel_time  trip_fare        date  \\\n",
       "0  17.457829  17.457829            2.806    12.609667         37  2019-01-05   \n",
       "1  17.450548  17.450548           11.991    24.075200        119  2019-01-05   \n",
       "2  17.377041  17.377041            1.322     8.708300         27  2019-01-05   \n",
       "3  17.397131  17.397131           11.822    24.037550        121  2019-01-05   \n",
       "4  17.401625  17.401625            6.978    16.120867         58  2019-01-05   \n",
       "\n",
       "              time  \n",
       "0  22:57:50.211000  \n",
       "1  22:58:29.524000  \n",
       "2  22:58:51.857000  \n",
       "3  22:59:18.403000  \n",
       "4  22:59:46.884000  "
      ]
     },
     "execution_count": 321,
     "metadata": {},
     "output_type": "execute_result"
    }
   ],
   "source": [
    "def convert(x):\n",
    "    return datetime.datetime.fromtimestamp(x/1e3)\n",
    "\n",
    "Dataset['timestamp'] = Dataset['timestamp'].apply(lambda x: convert(x))\n",
    "Dataset['date'] =Dataset['timestamp'].apply(lambda x :x.date())\n",
    "Dataset['time'] =Dataset['timestamp'].apply(lambda x :x.time())\n",
    "\n",
    "Dataset.head()\n"
   ]
  },
  {
   "cell_type": "markdown",
   "metadata": {},
   "source": [
    "2. To check total number of distinct dates"
   ]
  },
  {
   "cell_type": "code",
   "execution_count": 322,
   "metadata": {},
   "outputs": [
    {
     "data": {
      "text/plain": [
       "{datetime.date(2019, 1, 2),\n",
       " datetime.date(2019, 1, 3),\n",
       " datetime.date(2019, 1, 4),\n",
       " datetime.date(2019, 1, 5),\n",
       " datetime.date(2019, 1, 6),\n",
       " datetime.date(2019, 1, 7)}"
      ]
     },
     "execution_count": 322,
     "metadata": {},
     "output_type": "execute_result"
    }
   ],
   "source": [
    "set(Dataset['date'])"
   ]
  },
  {
   "cell_type": "markdown",
   "metadata": {},
   "source": [
    "**Findings:** *There are total 6 distinct dates from 2nd Jan, 2019 to 7th Jan, 2019*"
   ]
  },
  {
   "cell_type": "markdown",
   "metadata": {},
   "source": [
    "3. To check the descriptive analysis for each column"
   ]
  },
  {
   "cell_type": "code",
   "execution_count": 323,
   "metadata": {},
   "outputs": [
    {
     "data": {
      "text/html": [
       "<div>\n",
       "<style scoped>\n",
       "    .dataframe tbody tr th:only-of-type {\n",
       "        vertical-align: middle;\n",
       "    }\n",
       "\n",
       "    .dataframe tbody tr th {\n",
       "        vertical-align: top;\n",
       "    }\n",
       "\n",
       "    .dataframe thead th {\n",
       "        text-align: right;\n",
       "    }\n",
       "</style>\n",
       "<table border=\"1\" class=\"dataframe\">\n",
       "  <thead>\n",
       "    <tr style=\"text-align: right;\">\n",
       "      <th></th>\n",
       "      <th>pick_lat</th>\n",
       "      <th>pick_lng</th>\n",
       "      <th>drop_lat</th>\n",
       "      <th>drop_lng</th>\n",
       "      <th>travel_distance</th>\n",
       "      <th>travel_time</th>\n",
       "      <th>trip_fare</th>\n",
       "    </tr>\n",
       "  </thead>\n",
       "  <tbody>\n",
       "    <tr>\n",
       "      <th>count</th>\n",
       "      <td>44587.000000</td>\n",
       "      <td>44587.000000</td>\n",
       "      <td>44587.000000</td>\n",
       "      <td>44587.000000</td>\n",
       "      <td>44587.000000</td>\n",
       "      <td>44587.000000</td>\n",
       "      <td>44587.000000</td>\n",
       "    </tr>\n",
       "    <tr>\n",
       "      <th>mean</th>\n",
       "      <td>17.427598</td>\n",
       "      <td>17.427598</td>\n",
       "      <td>17.427520</td>\n",
       "      <td>17.427520</td>\n",
       "      <td>5.094359</td>\n",
       "      <td>15.819835</td>\n",
       "      <td>53.872833</td>\n",
       "    </tr>\n",
       "    <tr>\n",
       "      <th>std</th>\n",
       "      <td>0.030151</td>\n",
       "      <td>0.030151</td>\n",
       "      <td>0.037690</td>\n",
       "      <td>0.037690</td>\n",
       "      <td>3.365008</td>\n",
       "      <td>23.462865</td>\n",
       "      <td>33.430462</td>\n",
       "    </tr>\n",
       "    <tr>\n",
       "      <th>min</th>\n",
       "      <td>17.330339</td>\n",
       "      <td>17.330339</td>\n",
       "      <td>12.921696</td>\n",
       "      <td>12.921696</td>\n",
       "      <td>-1.000000</td>\n",
       "      <td>0.022750</td>\n",
       "      <td>20.000000</td>\n",
       "    </tr>\n",
       "    <tr>\n",
       "      <th>25%</th>\n",
       "      <td>17.404811</td>\n",
       "      <td>17.404811</td>\n",
       "      <td>17.405149</td>\n",
       "      <td>17.405149</td>\n",
       "      <td>2.744500</td>\n",
       "      <td>8.428525</td>\n",
       "      <td>36.000000</td>\n",
       "    </tr>\n",
       "    <tr>\n",
       "      <th>50%</th>\n",
       "      <td>17.431681</td>\n",
       "      <td>17.431681</td>\n",
       "      <td>17.430460</td>\n",
       "      <td>17.430460</td>\n",
       "      <td>4.299000</td>\n",
       "      <td>13.126250</td>\n",
       "      <td>46.000000</td>\n",
       "    </tr>\n",
       "    <tr>\n",
       "      <th>75%</th>\n",
       "      <td>17.446578</td>\n",
       "      <td>17.446578</td>\n",
       "      <td>17.446780</td>\n",
       "      <td>17.446780</td>\n",
       "      <td>6.679500</td>\n",
       "      <td>20.111167</td>\n",
       "      <td>60.000000</td>\n",
       "    </tr>\n",
       "    <tr>\n",
       "      <th>max</th>\n",
       "      <td>17.528885</td>\n",
       "      <td>17.528885</td>\n",
       "      <td>17.736155</td>\n",
       "      <td>17.736155</td>\n",
       "      <td>52.801000</td>\n",
       "      <td>4134.388700</td>\n",
       "      <td>1670.000000</td>\n",
       "    </tr>\n",
       "  </tbody>\n",
       "</table>\n",
       "</div>"
      ],
      "text/plain": [
       "           pick_lat      pick_lng      drop_lat      drop_lng  \\\n",
       "count  44587.000000  44587.000000  44587.000000  44587.000000   \n",
       "mean      17.427598     17.427598     17.427520     17.427520   \n",
       "std        0.030151      0.030151      0.037690      0.037690   \n",
       "min       17.330339     17.330339     12.921696     12.921696   \n",
       "25%       17.404811     17.404811     17.405149     17.405149   \n",
       "50%       17.431681     17.431681     17.430460     17.430460   \n",
       "75%       17.446578     17.446578     17.446780     17.446780   \n",
       "max       17.528885     17.528885     17.736155     17.736155   \n",
       "\n",
       "       travel_distance   travel_time     trip_fare  \n",
       "count     44587.000000  44587.000000  44587.000000  \n",
       "mean          5.094359     15.819835     53.872833  \n",
       "std           3.365008     23.462865     33.430462  \n",
       "min          -1.000000      0.022750     20.000000  \n",
       "25%           2.744500      8.428525     36.000000  \n",
       "50%           4.299000     13.126250     46.000000  \n",
       "75%           6.679500     20.111167     60.000000  \n",
       "max          52.801000   4134.388700   1670.000000  "
      ]
     },
     "execution_count": 323,
     "metadata": {},
     "output_type": "execute_result"
    }
   ],
   "source": [
    "Dataset.describe()"
   ]
  },
  {
   "cell_type": "markdown",
   "metadata": {},
   "source": [
    "**Findings:** *1. The latitude and longitude coordinates are same for both pick up and drop location*"
   ]
  },
  {
   "cell_type": "markdown",
   "metadata": {},
   "source": [
    "**Findings:** *2. The minimum distance travelled is -1 which is not possible*"
   ]
  },
  {
   "cell_type": "markdown",
   "metadata": {},
   "source": [
    "4. To check the outliers in travel distance and time travelled"
   ]
  },
  {
   "cell_type": "code",
   "execution_count": 324,
   "metadata": {},
   "outputs": [
    {
     "data": {
      "text/plain": [
       "<matplotlib.axes._subplots.AxesSubplot at 0x1be87f96948>"
      ]
     },
     "execution_count": 324,
     "metadata": {},
     "output_type": "execute_result"
    },
    {
     "data": {
      "image/png": "[encoded data removed]",
      "text/plain": [
       "<Figure size 432x288 with 1 Axes>"
      ]
     },
     "metadata": {
      "needs_background": "light"
     },
     "output_type": "display_data"
    }
   ],
   "source": [
    "sns.boxplot(x=Dataset['travel_distance'])"
   ]
  },
  {
   "cell_type": "markdown",
   "metadata": {},
   "source": [
    "**Findings:** *We will remove the distance travelled =-1 and more than 20 from our dataset*"
   ]
  },
  {
   "cell_type": "code",
   "execution_count": 325,
   "metadata": {},
   "outputs": [
    {
     "data": {
      "text/plain": [
       "<matplotlib.axes._subplots.AxesSubplot at 0x1be8ed8bdc8>"
      ]
     },
     "execution_count": 325,
     "metadata": {},
     "output_type": "execute_result"
    },
    {
     "data": {
      "image/png": "[encoded data removed]",
      "text/plain": [
       "<Figure size 432x288 with 1 Axes>"
      ]
     },
     "metadata": {
      "needs_background": "light"
     },
     "output_type": "display_data"
    }
   ],
   "source": [
    "sns.boxplot(x=Dataset['travel_time'])"
   ]
  },
  {
   "cell_type": "markdown",
   "metadata": {},
   "source": [
    "**Findings** *The 75% of trips happened in 20 mins, lets consider the travel time upto 120 mins in our analysis*"
   ]
  },
  {
   "cell_type": "markdown",
   "metadata": {},
   "source": [
    "5. To create the Final Dataset by removing the outliers"
   ]
  },
  {
   "cell_type": "code",
   "execution_count": 326,
   "metadata": {},
   "outputs": [
    {
     "data": {
      "text/html": [
       "<div>\n",
       "<style scoped>\n",
       "    .dataframe tbody tr th:only-of-type {\n",
       "        vertical-align: middle;\n",
       "    }\n",
       "\n",
       "    .dataframe tbody tr th {\n",
       "        vertical-align: top;\n",
       "    }\n",
       "\n",
       "    .dataframe thead th {\n",
       "        text-align: right;\n",
       "    }\n",
       "</style>\n",
       "<table border=\"1\" class=\"dataframe\">\n",
       "  <thead>\n",
       "    <tr style=\"text-align: right;\">\n",
       "      <th></th>\n",
       "      <th>pick_lat</th>\n",
       "      <th>pick_lng</th>\n",
       "      <th>drop_lat</th>\n",
       "      <th>drop_lng</th>\n",
       "      <th>travel_distance</th>\n",
       "      <th>travel_time</th>\n",
       "      <th>trip_fare</th>\n",
       "    </tr>\n",
       "  </thead>\n",
       "  <tbody>\n",
       "    <tr>\n",
       "      <th>count</th>\n",
       "      <td>44191.000000</td>\n",
       "      <td>44191.000000</td>\n",
       "      <td>44191.000000</td>\n",
       "      <td>44191.000000</td>\n",
       "      <td>44191.000000</td>\n",
       "      <td>44191.000000</td>\n",
       "      <td>44191.000000</td>\n",
       "    </tr>\n",
       "    <tr>\n",
       "      <th>mean</th>\n",
       "      <td>17.427612</td>\n",
       "      <td>17.427612</td>\n",
       "      <td>17.427629</td>\n",
       "      <td>17.427629</td>\n",
       "      <td>5.060699</td>\n",
       "      <td>15.523689</td>\n",
       "      <td>53.260211</td>\n",
       "    </tr>\n",
       "    <tr>\n",
       "      <th>std</th>\n",
       "      <td>0.030098</td>\n",
       "      <td>0.030098</td>\n",
       "      <td>0.030924</td>\n",
       "      <td>0.030924</td>\n",
       "      <td>3.177471</td>\n",
       "      <td>9.975884</td>\n",
       "      <td>29.172818</td>\n",
       "    </tr>\n",
       "    <tr>\n",
       "      <th>min</th>\n",
       "      <td>17.333647</td>\n",
       "      <td>17.333647</td>\n",
       "      <td>17.322180</td>\n",
       "      <td>17.322180</td>\n",
       "      <td>0.001000</td>\n",
       "      <td>0.022750</td>\n",
       "      <td>20.000000</td>\n",
       "    </tr>\n",
       "    <tr>\n",
       "      <th>25%</th>\n",
       "      <td>17.404873</td>\n",
       "      <td>17.404873</td>\n",
       "      <td>17.405239</td>\n",
       "      <td>17.405239</td>\n",
       "      <td>2.763000</td>\n",
       "      <td>8.473450</td>\n",
       "      <td>36.000000</td>\n",
       "    </tr>\n",
       "    <tr>\n",
       "      <th>50%</th>\n",
       "      <td>17.431686</td>\n",
       "      <td>17.431686</td>\n",
       "      <td>17.430464</td>\n",
       "      <td>17.430464</td>\n",
       "      <td>4.308000</td>\n",
       "      <td>13.139850</td>\n",
       "      <td>46.000000</td>\n",
       "    </tr>\n",
       "    <tr>\n",
       "      <th>75%</th>\n",
       "      <td>17.446550</td>\n",
       "      <td>17.446550</td>\n",
       "      <td>17.446751</td>\n",
       "      <td>17.446751</td>\n",
       "      <td>6.664000</td>\n",
       "      <td>20.052350</td>\n",
       "      <td>60.000000</td>\n",
       "    </tr>\n",
       "    <tr>\n",
       "      <th>max</th>\n",
       "      <td>17.528885</td>\n",
       "      <td>17.528885</td>\n",
       "      <td>17.560116</td>\n",
       "      <td>17.560116</td>\n",
       "      <td>19.980000</td>\n",
       "      <td>113.927683</td>\n",
       "      <td>959.000000</td>\n",
       "    </tr>\n",
       "  </tbody>\n",
       "</table>\n",
       "</div>"
      ],
      "text/plain": [
       "           pick_lat      pick_lng      drop_lat      drop_lng  \\\n",
       "count  44191.000000  44191.000000  44191.000000  44191.000000   \n",
       "mean      17.427612     17.427612     17.427629     17.427629   \n",
       "std        0.030098      0.030098      0.030924      0.030924   \n",
       "min       17.333647     17.333647     17.322180     17.322180   \n",
       "25%       17.404873     17.404873     17.405239     17.405239   \n",
       "50%       17.431686     17.431686     17.430464     17.430464   \n",
       "75%       17.446550     17.446550     17.446751     17.446751   \n",
       "max       17.528885     17.528885     17.560116     17.560116   \n",
       "\n",
       "       travel_distance   travel_time     trip_fare  \n",
       "count     44191.000000  44191.000000  44191.000000  \n",
       "mean          5.060699     15.523689     53.260211  \n",
       "std           3.177471      9.975884     29.172818  \n",
       "min           0.001000      0.022750     20.000000  \n",
       "25%           2.763000      8.473450     36.000000  \n",
       "50%           4.308000     13.139850     46.000000  \n",
       "75%           6.664000     20.052350     60.000000  \n",
       "max          19.980000    113.927683    959.000000  "
      ]
     },
     "execution_count": 326,
     "metadata": {},
     "output_type": "execute_result"
    }
   ],
   "source": [
    "Final_DS=Dataset[(Dataset['travel_distance']>0) & (Dataset['travel_distance']<20) & (Dataset['travel_time']<120)  ]\n",
    "Final_DS.describe()"
   ]
  },
  {
   "cell_type": "markdown",
   "metadata": {},
   "source": [
    "### 4. Performing Exploratory data analysis"
   ]
  },
  {
   "cell_type": "markdown",
   "metadata": {},
   "source": [
    "1. To get the correlation between trip fare and travel distance, travel time\n"
   ]
  },
  {
   "cell_type": "code",
   "execution_count": 327,
   "metadata": {},
   "outputs": [
    {
     "data": {
      "text/html": [
       "<div>\n",
       "<style scoped>\n",
       "    .dataframe tbody tr th:only-of-type {\n",
       "        vertical-align: middle;\n",
       "    }\n",
       "\n",
       "    .dataframe tbody tr th {\n",
       "        vertical-align: top;\n",
       "    }\n",
       "\n",
       "    .dataframe thead th {\n",
       "        text-align: right;\n",
       "    }\n",
       "</style>\n",
       "<table border=\"1\" class=\"dataframe\">\n",
       "  <thead>\n",
       "    <tr style=\"text-align: right;\">\n",
       "      <th></th>\n",
       "      <th>travel_distance</th>\n",
       "      <th>travel_time</th>\n",
       "      <th>trip_fare</th>\n",
       "    </tr>\n",
       "  </thead>\n",
       "  <tbody>\n",
       "    <tr>\n",
       "      <th>travel_distance</th>\n",
       "      <td>1.000000</td>\n",
       "      <td>0.827749</td>\n",
       "      <td>0.935656</td>\n",
       "    </tr>\n",
       "    <tr>\n",
       "      <th>travel_time</th>\n",
       "      <td>0.827749</td>\n",
       "      <td>1.000000</td>\n",
       "      <td>0.787299</td>\n",
       "    </tr>\n",
       "    <tr>\n",
       "      <th>trip_fare</th>\n",
       "      <td>0.935656</td>\n",
       "      <td>0.787299</td>\n",
       "      <td>1.000000</td>\n",
       "    </tr>\n",
       "  </tbody>\n",
       "</table>\n",
       "</div>"
      ],
      "text/plain": [
       "                 travel_distance  travel_time  trip_fare\n",
       "travel_distance         1.000000     0.827749   0.935656\n",
       "travel_time             0.827749     1.000000   0.787299\n",
       "trip_fare               0.935656     0.787299   1.000000"
      ]
     },
     "execution_count": 327,
     "metadata": {},
     "output_type": "execute_result"
    },
    {
     "data": {
      "image/png": "[encoded data removed]",
      "text/plain": [
       "<Figure size 432x288 with 2 Axes>"
      ]
     },
     "metadata": {
      "needs_background": "light"
     },
     "output_type": "display_data"
    }
   ],
   "source": [
    "corrmat = Final_DS[['travel_distance','travel_time','trip_fare']].corr() \n",
    "  \n",
    "f, ax = plt.subplots() \n",
    "sns.heatmap(corrmat, ax = ax, cmap =\"YlGnBu\", linewidths = 0.1) \n",
    "corrmat"
   ]
  },
  {
   "cell_type": "markdown",
   "metadata": {},
   "source": [
    "**Findings:** *Trip fare is highly correlated with travel distance rather than travel time*"
   ]
  },
  {
   "cell_type": "markdown",
   "metadata": {},
   "source": [
    "2. To divide the day into different time slots and to see how the number of rides depends on it"
   ]
  },
  {
   "cell_type": "markdown",
   "metadata": {},
   "source": [
    "(2.a) To create the list of different time slots"
   ]
  },
  {
   "cell_type": "code",
   "execution_count": 328,
   "metadata": {},
   "outputs": [],
   "source": [
    "lst =[datetime.time(0, 0, 0),datetime.time(5, 0, 0),datetime.time(7, 30, 0),\n",
    "      datetime.time(10, 30, 0),datetime.time(12, 0, 0),datetime.time(15, 0, 0),\n",
    "      datetime.time(17, 0, 0),datetime.time(20, 0, 0),datetime.time(21, 30, 0)]"
   ]
  },
  {
   "cell_type": "markdown",
   "metadata": {},
   "source": [
    "(2.b) Define a function which will pass the time and assign it a particular time slot"
   ]
  },
  {
   "cell_type": "code",
   "execution_count": 329,
   "metadata": {},
   "outputs": [],
   "source": [
    "def TimeBin(x):\n",
    "    if (x>datetime.time(0, 0, 0))&(x<=datetime.time(5, 0, 0)):\n",
    "        return '01.Night (12 AM - 05 AM)'\n",
    "    elif (x>datetime.time(5, 0, 0))&(x<=datetime.time(7, 30, 0)):\n",
    "        return '02.Early Morning (05 AM - 07:30AM)'\n",
    "    elif (x>datetime.time(7,30, 0))&(x<=datetime.time(10, 30, 0)):\n",
    "        return '03.Office Start (07:30 AM - 10:30 AM)'\n",
    "    elif (x>datetime.time(10,30, 0))&(x<=datetime.time(12, 30, 0)):\n",
    "        return '04.Working Hours - Morning (10:30 AM - 12:30 PM)'\n",
    "    elif (x>datetime.time(12,30, 0))&(x<=datetime.time(15, 00, 0)):\n",
    "        return '05.Lunch(12:30 PM - 03:00 PM)'\n",
    "    elif (x>datetime.time(15,00, 0))&(x<=datetime.time(17, 30, 0)):\n",
    "        return '06.Working Hours - Evening(03:00 PM - 05:30 PM)'\n",
    "    elif (x>datetime.time(17,30, 0))&(x<=datetime.time(20, 30, 0)):\n",
    "        return '07.Office Return(05:30 PM - 08:30 PM)'\n",
    "    elif (x>datetime.time(20,30, 0))&(x<=datetime.time(22, 00, 0)):\n",
    "        return '08.Late Returns(08:30 PM - 10:00 PM)' \n",
    "    else:\n",
    "        return '09.Late Night(10:00 PM - !2:00 AM)'\n"
   ]
  },
  {
   "cell_type": "markdown",
   "metadata": {},
   "source": [
    "(2.c) Define a function which will assign the date to weekend and weekday"
   ]
  },
  {
   "cell_type": "code",
   "execution_count": 330,
   "metadata": {},
   "outputs": [],
   "source": [
    "def DayBin(x):\n",
    "    if x in ['2019-01-02','2019-01-03','2019-01-06','2019-01-07']:\n",
    "        return 'Weekday'\n",
    "    else:\n",
    "        return 'Weekend'"
   ]
  },
  {
   "cell_type": "markdown",
   "metadata": {},
   "source": [
    "(2.d) Pass the dataset into above 2 defined functions and create 2 columns based on it"
   ]
  },
  {
   "cell_type": "code",
   "execution_count": 331,
   "metadata": {},
   "outputs": [
    {
     "name": "stderr",
     "output_type": "stream",
     "text": [
      "C:\\ProgramData\\Anaconda3\\lib\\site-packages\\ipykernel_launcher.py:1: SettingWithCopyWarning: \n",
      "A value is trying to be set on a copy of a slice from a DataFrame.\n",
      "Try using .loc[row_indexer,col_indexer] = value instead\n",
      "\n",
      "See the caveats in the documentation: http://pandas.pydata.org/pandas-docs/stable/user_guide/indexing.html#returning-a-view-versus-a-copy\n",
      "  \"\"\"Entry point for launching an IPython kernel.\n",
      "C:\\ProgramData\\Anaconda3\\lib\\site-packages\\ipykernel_launcher.py:2: SettingWithCopyWarning: \n",
      "A value is trying to be set on a copy of a slice from a DataFrame.\n",
      "Try using .loc[row_indexer,col_indexer] = value instead\n",
      "\n",
      "See the caveats in the documentation: http://pandas.pydata.org/pandas-docs/stable/user_guide/indexing.html#returning-a-view-versus-a-copy\n",
      "  \n"
     ]
    }
   ],
   "source": [
    "Final_DS['timebin'] = Final_DS['time'].apply(lambda x: TimeBin(x))\n",
    "Final_DS['day'] = (Final_DS['date'].astype(str)).apply(lambda x: DayBin(x))"
   ]
  },
  {
   "cell_type": "code",
   "execution_count": 332,
   "metadata": {},
   "outputs": [
    {
     "data": {
      "text/html": [
       "<div>\n",
       "<style scoped>\n",
       "    .dataframe tbody tr th:only-of-type {\n",
       "        vertical-align: middle;\n",
       "    }\n",
       "\n",
       "    .dataframe tbody tr th {\n",
       "        vertical-align: top;\n",
       "    }\n",
       "\n",
       "    .dataframe thead th {\n",
       "        text-align: right;\n",
       "    }\n",
       "</style>\n",
       "<table border=\"1\" class=\"dataframe\">\n",
       "  <thead>\n",
       "    <tr style=\"text-align: right;\">\n",
       "      <th></th>\n",
       "      <th>trip_id</th>\n",
       "      <th>customer_id</th>\n",
       "      <th>timestamp</th>\n",
       "      <th>pick_lat</th>\n",
       "      <th>pick_lng</th>\n",
       "      <th>drop_lat</th>\n",
       "      <th>drop_lng</th>\n",
       "      <th>travel_distance</th>\n",
       "      <th>travel_time</th>\n",
       "      <th>trip_fare</th>\n",
       "      <th>date</th>\n",
       "      <th>time</th>\n",
       "      <th>timebin</th>\n",
       "      <th>day</th>\n",
       "    </tr>\n",
       "  </thead>\n",
       "  <tbody>\n",
       "    <tr>\n",
       "      <th>0</th>\n",
       "      <td>ID001</td>\n",
       "      <td>CUST_001</td>\n",
       "      <td>2019-01-05 22:57:50.211</td>\n",
       "      <td>17.442705</td>\n",
       "      <td>17.442705</td>\n",
       "      <td>17.457829</td>\n",
       "      <td>17.457829</td>\n",
       "      <td>2.806</td>\n",
       "      <td>12.609667</td>\n",
       "      <td>37</td>\n",
       "      <td>2019-01-05</td>\n",
       "      <td>22:57:50.211000</td>\n",
       "      <td>09.Late Night(10:00 PM - !2:00 AM)</td>\n",
       "      <td>Weekend</td>\n",
       "    </tr>\n",
       "    <tr>\n",
       "      <th>1</th>\n",
       "      <td>ID002</td>\n",
       "      <td>CUST_002</td>\n",
       "      <td>2019-01-05 22:58:29.524</td>\n",
       "      <td>17.490189</td>\n",
       "      <td>17.490189</td>\n",
       "      <td>17.450548</td>\n",
       "      <td>17.450548</td>\n",
       "      <td>11.991</td>\n",
       "      <td>24.075200</td>\n",
       "      <td>119</td>\n",
       "      <td>2019-01-05</td>\n",
       "      <td>22:58:29.524000</td>\n",
       "      <td>09.Late Night(10:00 PM - !2:00 AM)</td>\n",
       "      <td>Weekend</td>\n",
       "    </tr>\n",
       "    <tr>\n",
       "      <th>2</th>\n",
       "      <td>ID003</td>\n",
       "      <td>CUST_003</td>\n",
       "      <td>2019-01-05 22:58:51.857</td>\n",
       "      <td>17.370108</td>\n",
       "      <td>17.370108</td>\n",
       "      <td>17.377041</td>\n",
       "      <td>17.377041</td>\n",
       "      <td>1.322</td>\n",
       "      <td>8.708300</td>\n",
       "      <td>27</td>\n",
       "      <td>2019-01-05</td>\n",
       "      <td>22:58:51.857000</td>\n",
       "      <td>09.Late Night(10:00 PM - !2:00 AM)</td>\n",
       "      <td>Weekend</td>\n",
       "    </tr>\n",
       "    <tr>\n",
       "      <th>3</th>\n",
       "      <td>ID004</td>\n",
       "      <td>CUST_004</td>\n",
       "      <td>2019-01-05 22:59:18.403</td>\n",
       "      <td>17.439314</td>\n",
       "      <td>17.439314</td>\n",
       "      <td>17.397131</td>\n",
       "      <td>17.397131</td>\n",
       "      <td>11.822</td>\n",
       "      <td>24.037550</td>\n",
       "      <td>121</td>\n",
       "      <td>2019-01-05</td>\n",
       "      <td>22:59:18.403000</td>\n",
       "      <td>09.Late Night(10:00 PM - !2:00 AM)</td>\n",
       "      <td>Weekend</td>\n",
       "    </tr>\n",
       "    <tr>\n",
       "      <th>4</th>\n",
       "      <td>ID005</td>\n",
       "      <td>CUST_005</td>\n",
       "      <td>2019-01-05 22:59:46.884</td>\n",
       "      <td>17.432325</td>\n",
       "      <td>17.432325</td>\n",
       "      <td>17.401625</td>\n",
       "      <td>17.401625</td>\n",
       "      <td>6.978</td>\n",
       "      <td>16.120867</td>\n",
       "      <td>58</td>\n",
       "      <td>2019-01-05</td>\n",
       "      <td>22:59:46.884000</td>\n",
       "      <td>09.Late Night(10:00 PM - !2:00 AM)</td>\n",
       "      <td>Weekend</td>\n",
       "    </tr>\n",
       "  </tbody>\n",
       "</table>\n",
       "</div>"
      ],
      "text/plain": [
       "  trip_id customer_id               timestamp   pick_lat   pick_lng  \\\n",
       "0   ID001    CUST_001 2019-01-05 22:57:50.211  17.442705  17.442705   \n",
       "1   ID002    CUST_002 2019-01-05 22:58:29.524  17.490189  17.490189   \n",
       "2   ID003    CUST_003 2019-01-05 22:58:51.857  17.370108  17.370108   \n",
       "3   ID004    CUST_004 2019-01-05 22:59:18.403  17.439314  17.439314   \n",
       "4   ID005    CUST_005 2019-01-05 22:59:46.884  17.432325  17.432325   \n",
       "\n",
       "    drop_lat   drop_lng  travel_distance  travel_time  trip_fare        date  \\\n",
       "0  17.457829  17.457829            2.806    12.609667         37  2019-01-05   \n",
       "1  17.450548  17.450548           11.991    24.075200        119  2019-01-05   \n",
       "2  17.377041  17.377041            1.322     8.708300         27  2019-01-05   \n",
       "3  17.397131  17.397131           11.822    24.037550        121  2019-01-05   \n",
       "4  17.401625  17.401625            6.978    16.120867         58  2019-01-05   \n",
       "\n",
       "              time                             timebin      day  \n",
       "0  22:57:50.211000  09.Late Night(10:00 PM - !2:00 AM)  Weekend  \n",
       "1  22:58:29.524000  09.Late Night(10:00 PM - !2:00 AM)  Weekend  \n",
       "2  22:58:51.857000  09.Late Night(10:00 PM - !2:00 AM)  Weekend  \n",
       "3  22:59:18.403000  09.Late Night(10:00 PM - !2:00 AM)  Weekend  \n",
       "4  22:59:46.884000  09.Late Night(10:00 PM - !2:00 AM)  Weekend  "
      ]
     },
     "execution_count": 332,
     "metadata": {},
     "output_type": "execute_result"
    }
   ],
   "source": [
    "Final_DS.head()"
   ]
  },
  {
   "cell_type": "markdown",
   "metadata": {},
   "source": [
    "(2.e) To create pivot table to understand the number of trips for each day and time slot"
   ]
  },
  {
   "cell_type": "code",
   "execution_count": 333,
   "metadata": {},
   "outputs": [
    {
     "data": {
      "text/html": [
       "<div>\n",
       "<style scoped>\n",
       "    .dataframe tbody tr th:only-of-type {\n",
       "        vertical-align: middle;\n",
       "    }\n",
       "\n",
       "    .dataframe tbody tr th {\n",
       "        vertical-align: top;\n",
       "    }\n",
       "\n",
       "    .dataframe thead th {\n",
       "        text-align: right;\n",
       "    }\n",
       "</style>\n",
       "<table border=\"1\" class=\"dataframe\">\n",
       "  <thead>\n",
       "    <tr style=\"text-align: right;\">\n",
       "      <th></th>\n",
       "      <th>timebin</th>\n",
       "      <th>Thursday</th>\n",
       "      <th>Friday</th>\n",
       "      <th>Saturday</th>\n",
       "      <th>Sunday</th>\n",
       "      <th>Monday</th>\n",
       "      <th>Tuesday</th>\n",
       "    </tr>\n",
       "  </thead>\n",
       "  <tbody>\n",
       "    <tr>\n",
       "      <th>0</th>\n",
       "      <td>01.Night (12 AM - 05 AM)</td>\n",
       "      <td>48</td>\n",
       "      <td>69</td>\n",
       "      <td>87</td>\n",
       "      <td>146</td>\n",
       "      <td>157</td>\n",
       "      <td>116</td>\n",
       "    </tr>\n",
       "    <tr>\n",
       "      <th>1</th>\n",
       "      <td>02.Early Morning (05 AM - 07:30AM)</td>\n",
       "      <td>75</td>\n",
       "      <td>101</td>\n",
       "      <td>89</td>\n",
       "      <td>97</td>\n",
       "      <td>61</td>\n",
       "      <td>145</td>\n",
       "    </tr>\n",
       "    <tr>\n",
       "      <th>2</th>\n",
       "      <td>03.Office Start (07:30 AM - 10:30 AM)</td>\n",
       "      <td>1605</td>\n",
       "      <td>1695</td>\n",
       "      <td>1734</td>\n",
       "      <td>1177</td>\n",
       "      <td>574</td>\n",
       "      <td>1901</td>\n",
       "    </tr>\n",
       "    <tr>\n",
       "      <th>3</th>\n",
       "      <td>04.Working Hours - Morning (10:30 AM - 12:30 PM)</td>\n",
       "      <td>998</td>\n",
       "      <td>1044</td>\n",
       "      <td>943</td>\n",
       "      <td>765</td>\n",
       "      <td>518</td>\n",
       "      <td>1168</td>\n",
       "    </tr>\n",
       "    <tr>\n",
       "      <th>4</th>\n",
       "      <td>05.Lunch(12:30 PM - 03:00 PM)</td>\n",
       "      <td>979</td>\n",
       "      <td>932</td>\n",
       "      <td>1063</td>\n",
       "      <td>986</td>\n",
       "      <td>698</td>\n",
       "      <td>1118</td>\n",
       "    </tr>\n",
       "    <tr>\n",
       "      <th>5</th>\n",
       "      <td>06.Working Hours - Evening(03:00 PM - 05:30 PM)</td>\n",
       "      <td>964</td>\n",
       "      <td>1006</td>\n",
       "      <td>1088</td>\n",
       "      <td>1029</td>\n",
       "      <td>724</td>\n",
       "      <td>1050</td>\n",
       "    </tr>\n",
       "    <tr>\n",
       "      <th>6</th>\n",
       "      <td>07.Office Return(05:30 PM - 08:30 PM)</td>\n",
       "      <td>1936</td>\n",
       "      <td>1976</td>\n",
       "      <td>2052</td>\n",
       "      <td>1565</td>\n",
       "      <td>1057</td>\n",
       "      <td>2085</td>\n",
       "    </tr>\n",
       "    <tr>\n",
       "      <th>7</th>\n",
       "      <td>08.Late Returns(08:30 PM - 10:00 PM)</td>\n",
       "      <td>661</td>\n",
       "      <td>687</td>\n",
       "      <td>789</td>\n",
       "      <td>591</td>\n",
       "      <td>430</td>\n",
       "      <td>774</td>\n",
       "    </tr>\n",
       "    <tr>\n",
       "      <th>8</th>\n",
       "      <td>09.Late Night(10:00 PM - !2:00 AM)</td>\n",
       "      <td>407</td>\n",
       "      <td>440</td>\n",
       "      <td>543</td>\n",
       "      <td>421</td>\n",
       "      <td>337</td>\n",
       "      <td>490</td>\n",
       "    </tr>\n",
       "  </tbody>\n",
       "</table>\n",
       "</div>"
      ],
      "text/plain": [
       "                                            timebin  Thursday  Friday  \\\n",
       "0                          01.Night (12 AM - 05 AM)        48      69   \n",
       "1                02.Early Morning (05 AM - 07:30AM)        75     101   \n",
       "2             03.Office Start (07:30 AM - 10:30 AM)      1605    1695   \n",
       "3  04.Working Hours - Morning (10:30 AM - 12:30 PM)       998    1044   \n",
       "4                     05.Lunch(12:30 PM - 03:00 PM)       979     932   \n",
       "5   06.Working Hours - Evening(03:00 PM - 05:30 PM)       964    1006   \n",
       "6             07.Office Return(05:30 PM - 08:30 PM)      1936    1976   \n",
       "7              08.Late Returns(08:30 PM - 10:00 PM)       661     687   \n",
       "8                09.Late Night(10:00 PM - !2:00 AM)       407     440   \n",
       "\n",
       "   Saturday  Sunday  Monday  Tuesday  \n",
       "0        87     146     157      116  \n",
       "1        89      97      61      145  \n",
       "2      1734    1177     574     1901  \n",
       "3       943     765     518     1168  \n",
       "4      1063     986     698     1118  \n",
       "5      1088    1029     724     1050  \n",
       "6      2052    1565    1057     2085  \n",
       "7       789     591     430      774  \n",
       "8       543     421     337      490  "
      ]
     },
     "execution_count": 333,
     "metadata": {},
     "output_type": "execute_result"
    }
   ],
   "source": [
    "pivot_timeslot_data = pd.pivot_table(Final_DS[['trip_id','date','timebin']],values = 'trip_id',\n",
    "                                                columns = 'date',\n",
    "                                                index = 'timebin',\n",
    "                                                aggfunc = 'count').reset_index()\n",
    "\n",
    "pivot_timeslot_data.columns = ['timebin','Thursday','Friday','Saturday','Sunday','Monday','Tuesday']\n",
    "pivot_timeslot_data"
   ]
  },
  {
   "cell_type": "markdown",
   "metadata": {},
   "source": [
    "(2.f) To get the average across each day for different time slot"
   ]
  },
  {
   "cell_type": "code",
   "execution_count": 334,
   "metadata": {},
   "outputs": [],
   "source": [
    "pivot_timeslot_data['Avg rides']=pivot_timeslot_data.mean(axis=1)"
   ]
  },
  {
   "cell_type": "markdown",
   "metadata": {},
   "source": [
    "(2.g) To get the graph how trips are differing across each time slot"
   ]
  },
  {
   "cell_type": "code",
   "execution_count": 335,
   "metadata": {},
   "outputs": [
    {
     "data": {
      "text/plain": [
       "([0, 1, 2, 3, 4, 5, 6, 7, 8], <a list of 9 Text xticklabel objects>)"
      ]
     },
     "execution_count": 335,
     "metadata": {},
     "output_type": "execute_result"
    },
    {
     "data": {
      "image/png": "[encoded data removed]",
      "text/plain": [
       "<Figure size 432x288 with 1 Axes>"
      ]
     },
     "metadata": {
      "needs_background": "light"
     },
     "output_type": "display_data"
    }
   ],
   "source": [
    "plt.plot(pivot_timeslot_data['timebin'],pivot_timeslot_data['Avg rides'])\n",
    "plt.xticks(rotation=90)"
   ]
  },
  {
   "cell_type": "markdown",
   "metadata": {},
   "source": [
    "**Findings:** *Number of rides is maximum at Office return (5:30 to 8:30) and Office start(7:30 to 10:30)*"
   ]
  },
  {
   "cell_type": "markdown",
   "metadata": {},
   "source": [
    "3. To see the performance of trips at customer level"
   ]
  },
  {
   "cell_type": "markdown",
   "metadata": {},
   "source": [
    "(3.a) To create the pivot table at customer level, number of trips made each day"
   ]
  },
  {
   "cell_type": "code",
   "execution_count": 336,
   "metadata": {},
   "outputs": [],
   "source": [
    "Cust_no_of_trips = pd.pivot_table(Final_DS[['customer_id','trip_id','date']],values = 'trip_id',\n",
    "                                                columns = 'date',\n",
    "                                                index = 'customer_id',\n",
    "                                                aggfunc = 'count')\n",
    "\n",
    "Cust_no_of_trips.columns = ['Thursday','Friday','Saturday','Sunday','Monday','Tuesday']\n",
    "Cust_no_of_trips = Cust_no_of_trips.fillna(0)"
   ]
  },
  {
   "cell_type": "markdown",
   "metadata": {},
   "source": [
    "(3.b) To get the total number of trips made "
   ]
  },
  {
   "cell_type": "code",
   "execution_count": 337,
   "metadata": {},
   "outputs": [],
   "source": [
    "Cust_no_of_trips['Total Trips'] = Cust_no_of_trips.sum(axis = 1, skipna = True) .astype(int)\n",
    "Cust_no_of_trips = trips_cust.fillna(0)\n"
   ]
  },
  {
   "cell_type": "markdown",
   "metadata": {},
   "source": [
    "(3.c) To see the distribution of total trips and number of customers"
   ]
  },
  {
   "cell_type": "code",
   "execution_count": 271,
   "metadata": {},
   "outputs": [
    {
     "data": {
      "text/plain": [
       "[<matplotlib.lines.Line2D at 0x1be88239c48>]"
      ]
     },
     "execution_count": 271,
     "metadata": {},
     "output_type": "execute_result"
    },
    {
     "data": {
      "image/png": "[encoded data removed]",
      "text/plain": [
       "<Figure size 432x288 with 1 Axes>"
      ]
     },
     "metadata": {
      "needs_background": "light"
     },
     "output_type": "display_data"
    }
   ],
   "source": [
    "plt.plot(Cust_no_of_trips.groupby(['Total Trips'])['customer_id'].count())"
   ]
  },
  {
   "cell_type": "markdown",
   "metadata": {},
   "source": [
    "**Findings:** *Maximum number of customers has made total number of trips up to 5*"
   ]
  },
  {
   "cell_type": "markdown",
   "metadata": {},
   "source": [
    "(3.d) To see the distributon of total trips"
   ]
  },
  {
   "cell_type": "code",
   "execution_count": 272,
   "metadata": {},
   "outputs": [
    {
     "data": {
      "image/png": "[encoded data removed]",
      "text/plain": [
       "<Figure size 432x288 with 1 Axes>"
      ]
     },
     "metadata": {
      "needs_background": "light"
     },
     "output_type": "display_data"
    }
   ],
   "source": [
    "ax=sns.boxplot(x=Cust_no_of_trips.loc[Cust_no_of_trips['Total Trips']>1,'Total Trips'])"
   ]
  },
  {
   "cell_type": "markdown",
   "metadata": {},
   "source": [
    "4. To see the difference between into single time and multiple time users"
   ]
  },
  {
   "cell_type": "markdown",
   "metadata": {},
   "source": [
    "(4.a) To divide the customers into single time usre and multiple time user"
   ]
  },
  {
   "cell_type": "code",
   "execution_count": 273,
   "metadata": {},
   "outputs": [],
   "source": [
    "cids1 = Cust_no_of_trips.loc[Cust_no_of_trips['Total Trips']==1,'customer_id'].tolist()\n",
    "onetrip_ds = Final_DS[Final_DS['customer_id'].isin(cids1)]\n",
    "multiple_ds = Final_DS[~Final_DS['customer_id'].isin(cids1)]"
   ]
  },
  {
   "cell_type": "markdown",
   "metadata": {},
   "source": [
    "(4.b) To see at what time most of the one time user are making a trip"
   ]
  },
  {
   "cell_type": "code",
   "execution_count": 275,
   "metadata": {},
   "outputs": [
    {
     "data": {
      "text/plain": [
       "([0, 1, 2, 3, 4, 5, 6, 7, 8], <a list of 9 Text xticklabel objects>)"
      ]
     },
     "execution_count": 275,
     "metadata": {},
     "output_type": "execute_result"
    },
    {
     "data": {
      "image/png": "[encoded data removed]",
      "text/plain": [
       "<Figure size 432x288 with 1 Axes>"
      ]
     },
     "metadata": {
      "needs_background": "light"
     },
     "output_type": "display_data"
    }
   ],
   "source": [
    "plt.plot(onetrip_ds.groupby('timebin')['trip_id'].size())\n",
    "plt.xticks(rotation=90)"
   ]
  },
  {
   "cell_type": "markdown",
   "metadata": {},
   "source": [
    "**Findings:** *Most of the users are travelling at office returns(5:30pm to 8:30)*"
   ]
  },
  {
   "cell_type": "markdown",
   "metadata": {},
   "source": [
    "(4.c) To see at how the price differs with the different timestamps for single user"
   ]
  },
  {
   "cell_type": "code",
   "execution_count": 276,
   "metadata": {},
   "outputs": [
    {
     "data": {
      "text/plain": [
       "([0, 1, 2, 3, 4, 5, 6, 7, 8], <a list of 9 Text xticklabel objects>)"
      ]
     },
     "execution_count": 276,
     "metadata": {},
     "output_type": "execute_result"
    },
    {
     "data": {
      "image/png": "[encoded data removed]",
      "text/plain": [
       "<Figure size 432x288 with 1 Axes>"
      ]
     },
     "metadata": {
      "needs_background": "light"
     },
     "output_type": "display_data"
    }
   ],
   "source": [
    "plt.plot(onetrip_ds.groupby('timebin')['trip_fare'].mean())\n",
    "plt.xticks(rotation=90)"
   ]
  },
  {
   "cell_type": "markdown",
   "metadata": {},
   "source": [
    "**Findings:** *The trip fare is high during 12am to 10:30am*"
   ]
  },
  {
   "cell_type": "markdown",
   "metadata": {},
   "source": [
    "(4.d) To see at what time most of the one time user are making a trip"
   ]
  },
  {
   "cell_type": "code",
   "execution_count": 277,
   "metadata": {},
   "outputs": [
    {
     "data": {
      "text/plain": [
       "([0, 1, 2, 3, 4, 5, 6, 7, 8], <a list of 9 Text xticklabel objects>)"
      ]
     },
     "execution_count": 277,
     "metadata": {},
     "output_type": "execute_result"
    },
    {
     "data": {
      "image/png": "[encoded data removed]",
      "text/plain": [
       "<Figure size 432x288 with 1 Axes>"
      ]
     },
     "metadata": {
      "needs_background": "light"
     },
     "output_type": "display_data"
    }
   ],
   "source": [
    "plt.plot(multiple_ds.groupby('timebin')['trip_id'].size())\n",
    "plt.xticks(rotation=90)"
   ]
  },
  {
   "cell_type": "markdown",
   "metadata": {},
   "source": [
    "**Findings:** *Most of the users are travelling at office returns(5:30pm to 8:30)*"
   ]
  },
  {
   "cell_type": "markdown",
   "metadata": {},
   "source": [
    "(4.e) To see at how the price differs with the different timestamps for multiple user"
   ]
  },
  {
   "cell_type": "code",
   "execution_count": 278,
   "metadata": {},
   "outputs": [
    {
     "data": {
      "text/plain": [
       "([0, 1, 2, 3, 4, 5, 6, 7, 8], <a list of 9 Text xticklabel objects>)"
      ]
     },
     "execution_count": 278,
     "metadata": {},
     "output_type": "execute_result"
    },
    {
     "data": {
      "image/png": "[encoded data removed]",
      "text/plain": [
       "<Figure size 432x288 with 1 Axes>"
      ]
     },
     "metadata": {
      "needs_background": "light"
     },
     "output_type": "display_data"
    }
   ],
   "source": [
    "plt.plot(multiple_ds.groupby('timebin')['trip_fare'].mean())\n",
    "plt.xticks(rotation=90)"
   ]
  },
  {
   "cell_type": "markdown",
   "metadata": {},
   "source": [
    "**Findings:** *There is high trip rate in 10pm to 5am, 7:30am to 10am and 3pm to 5:30pm for multiple user*"
   ]
  },
  {
   "cell_type": "code",
   "execution_count": 279,
   "metadata": {},
   "outputs": [
    {
     "data": {
      "text/html": [
       "<div>\n",
       "<style scoped>\n",
       "    .dataframe tbody tr th:only-of-type {\n",
       "        vertical-align: middle;\n",
       "    }\n",
       "\n",
       "    .dataframe tbody tr th {\n",
       "        vertical-align: top;\n",
       "    }\n",
       "\n",
       "    .dataframe thead th {\n",
       "        text-align: right;\n",
       "    }\n",
       "</style>\n",
       "<table border=\"1\" class=\"dataframe\">\n",
       "  <thead>\n",
       "    <tr style=\"text-align: right;\">\n",
       "      <th></th>\n",
       "      <th>pick_lat</th>\n",
       "      <th>pick_lng</th>\n",
       "      <th>drop_lat</th>\n",
       "      <th>drop_lng</th>\n",
       "      <th>travel_distance</th>\n",
       "      <th>travel_time</th>\n",
       "      <th>trip_fare</th>\n",
       "    </tr>\n",
       "  </thead>\n",
       "  <tbody>\n",
       "    <tr>\n",
       "      <th>count</th>\n",
       "      <td>9937.000000</td>\n",
       "      <td>9937.000000</td>\n",
       "      <td>9937.000000</td>\n",
       "      <td>9937.000000</td>\n",
       "      <td>9937.000000</td>\n",
       "      <td>9937.000000</td>\n",
       "      <td>9937.000000</td>\n",
       "    </tr>\n",
       "    <tr>\n",
       "      <th>mean</th>\n",
       "      <td>17.423081</td>\n",
       "      <td>17.423081</td>\n",
       "      <td>17.423842</td>\n",
       "      <td>17.423842</td>\n",
       "      <td>5.524649</td>\n",
       "      <td>16.825652</td>\n",
       "      <td>57.596860</td>\n",
       "    </tr>\n",
       "    <tr>\n",
       "      <th>std</th>\n",
       "      <td>0.033049</td>\n",
       "      <td>0.033049</td>\n",
       "      <td>0.034475</td>\n",
       "      <td>0.034475</td>\n",
       "      <td>3.523311</td>\n",
       "      <td>10.994869</td>\n",
       "      <td>32.429167</td>\n",
       "    </tr>\n",
       "    <tr>\n",
       "      <th>min</th>\n",
       "      <td>17.334480</td>\n",
       "      <td>17.334480</td>\n",
       "      <td>17.324289</td>\n",
       "      <td>17.324289</td>\n",
       "      <td>0.001000</td>\n",
       "      <td>0.052483</td>\n",
       "      <td>20.000000</td>\n",
       "    </tr>\n",
       "    <tr>\n",
       "      <th>25%</th>\n",
       "      <td>17.398596</td>\n",
       "      <td>17.398596</td>\n",
       "      <td>17.398146</td>\n",
       "      <td>17.398146</td>\n",
       "      <td>2.891000</td>\n",
       "      <td>9.060267</td>\n",
       "      <td>37.000000</td>\n",
       "    </tr>\n",
       "    <tr>\n",
       "      <th>50%</th>\n",
       "      <td>17.424175</td>\n",
       "      <td>17.424175</td>\n",
       "      <td>17.425028</td>\n",
       "      <td>17.425028</td>\n",
       "      <td>4.708000</td>\n",
       "      <td>14.292633</td>\n",
       "      <td>49.000000</td>\n",
       "    </tr>\n",
       "    <tr>\n",
       "      <th>75%</th>\n",
       "      <td>17.443916</td>\n",
       "      <td>17.443916</td>\n",
       "      <td>17.445286</td>\n",
       "      <td>17.445286</td>\n",
       "      <td>7.374000</td>\n",
       "      <td>21.867317</td>\n",
       "      <td>65.000000</td>\n",
       "    </tr>\n",
       "    <tr>\n",
       "      <th>max</th>\n",
       "      <td>17.524307</td>\n",
       "      <td>17.524307</td>\n",
       "      <td>17.540697</td>\n",
       "      <td>17.540697</td>\n",
       "      <td>19.980000</td>\n",
       "      <td>113.927683</td>\n",
       "      <td>229.000000</td>\n",
       "    </tr>\n",
       "  </tbody>\n",
       "</table>\n",
       "</div>"
      ],
      "text/plain": [
       "          pick_lat     pick_lng     drop_lat     drop_lng  travel_distance  \\\n",
       "count  9937.000000  9937.000000  9937.000000  9937.000000      9937.000000   \n",
       "mean     17.423081    17.423081    17.423842    17.423842         5.524649   \n",
       "std       0.033049     0.033049     0.034475     0.034475         3.523311   \n",
       "min      17.334480    17.334480    17.324289    17.324289         0.001000   \n",
       "25%      17.398596    17.398596    17.398146    17.398146         2.891000   \n",
       "50%      17.424175    17.424175    17.425028    17.425028         4.708000   \n",
       "75%      17.443916    17.443916    17.445286    17.445286         7.374000   \n",
       "max      17.524307    17.524307    17.540697    17.540697        19.980000   \n",
       "\n",
       "       travel_time    trip_fare  \n",
       "count  9937.000000  9937.000000  \n",
       "mean     16.825652    57.596860  \n",
       "std      10.994869    32.429167  \n",
       "min       0.052483    20.000000  \n",
       "25%       9.060267    37.000000  \n",
       "50%      14.292633    49.000000  \n",
       "75%      21.867317    65.000000  \n",
       "max     113.927683   229.000000  "
      ]
     },
     "execution_count": 279,
     "metadata": {},
     "output_type": "execute_result"
    }
   ],
   "source": [
    "onetrip_ds.describe()"
   ]
  },
  {
   "cell_type": "code",
   "execution_count": 280,
   "metadata": {},
   "outputs": [
    {
     "data": {
      "text/html": [
       "<div>\n",
       "<style scoped>\n",
       "    .dataframe tbody tr th:only-of-type {\n",
       "        vertical-align: middle;\n",
       "    }\n",
       "\n",
       "    .dataframe tbody tr th {\n",
       "        vertical-align: top;\n",
       "    }\n",
       "\n",
       "    .dataframe thead th {\n",
       "        text-align: right;\n",
       "    }\n",
       "</style>\n",
       "<table border=\"1\" class=\"dataframe\">\n",
       "  <thead>\n",
       "    <tr style=\"text-align: right;\">\n",
       "      <th></th>\n",
       "      <th>pick_lat</th>\n",
       "      <th>pick_lng</th>\n",
       "      <th>drop_lat</th>\n",
       "      <th>drop_lng</th>\n",
       "      <th>travel_distance</th>\n",
       "      <th>travel_time</th>\n",
       "      <th>trip_fare</th>\n",
       "    </tr>\n",
       "  </thead>\n",
       "  <tbody>\n",
       "    <tr>\n",
       "      <th>count</th>\n",
       "      <td>34254.000000</td>\n",
       "      <td>34254.000000</td>\n",
       "      <td>34254.000000</td>\n",
       "      <td>34254.000000</td>\n",
       "      <td>34254.000000</td>\n",
       "      <td>34254.000000</td>\n",
       "      <td>34254.000000</td>\n",
       "    </tr>\n",
       "    <tr>\n",
       "      <th>mean</th>\n",
       "      <td>17.428927</td>\n",
       "      <td>17.428927</td>\n",
       "      <td>17.428727</td>\n",
       "      <td>17.428727</td>\n",
       "      <td>4.926108</td>\n",
       "      <td>15.145993</td>\n",
       "      <td>52.002160</td>\n",
       "    </tr>\n",
       "    <tr>\n",
       "      <th>std</th>\n",
       "      <td>0.029055</td>\n",
       "      <td>0.029055</td>\n",
       "      <td>0.029725</td>\n",
       "      <td>0.029725</td>\n",
       "      <td>3.056769</td>\n",
       "      <td>9.627468</td>\n",
       "      <td>28.033032</td>\n",
       "    </tr>\n",
       "    <tr>\n",
       "      <th>min</th>\n",
       "      <td>17.333647</td>\n",
       "      <td>17.333647</td>\n",
       "      <td>17.322180</td>\n",
       "      <td>17.322180</td>\n",
       "      <td>0.001000</td>\n",
       "      <td>0.022750</td>\n",
       "      <td>20.000000</td>\n",
       "    </tr>\n",
       "    <tr>\n",
       "      <th>25%</th>\n",
       "      <td>17.407238</td>\n",
       "      <td>17.407238</td>\n",
       "      <td>17.407518</td>\n",
       "      <td>17.407518</td>\n",
       "      <td>2.729000</td>\n",
       "      <td>8.355421</td>\n",
       "      <td>36.000000</td>\n",
       "    </tr>\n",
       "    <tr>\n",
       "      <th>50%</th>\n",
       "      <td>17.433000</td>\n",
       "      <td>17.433000</td>\n",
       "      <td>17.432096</td>\n",
       "      <td>17.432096</td>\n",
       "      <td>4.220000</td>\n",
       "      <td>12.834158</td>\n",
       "      <td>45.000000</td>\n",
       "    </tr>\n",
       "    <tr>\n",
       "      <th>75%</th>\n",
       "      <td>17.446981</td>\n",
       "      <td>17.446981</td>\n",
       "      <td>17.446896</td>\n",
       "      <td>17.446896</td>\n",
       "      <td>6.447000</td>\n",
       "      <td>19.518262</td>\n",
       "      <td>59.000000</td>\n",
       "    </tr>\n",
       "    <tr>\n",
       "      <th>max</th>\n",
       "      <td>17.528885</td>\n",
       "      <td>17.528885</td>\n",
       "      <td>17.560116</td>\n",
       "      <td>17.560116</td>\n",
       "      <td>19.886000</td>\n",
       "      <td>110.638750</td>\n",
       "      <td>959.000000</td>\n",
       "    </tr>\n",
       "  </tbody>\n",
       "</table>\n",
       "</div>"
      ],
      "text/plain": [
       "           pick_lat      pick_lng      drop_lat      drop_lng  \\\n",
       "count  34254.000000  34254.000000  34254.000000  34254.000000   \n",
       "mean      17.428927     17.428927     17.428727     17.428727   \n",
       "std        0.029055      0.029055      0.029725      0.029725   \n",
       "min       17.333647     17.333647     17.322180     17.322180   \n",
       "25%       17.407238     17.407238     17.407518     17.407518   \n",
       "50%       17.433000     17.433000     17.432096     17.432096   \n",
       "75%       17.446981     17.446981     17.446896     17.446896   \n",
       "max       17.528885     17.528885     17.560116     17.560116   \n",
       "\n",
       "       travel_distance   travel_time     trip_fare  \n",
       "count     34254.000000  34254.000000  34254.000000  \n",
       "mean          4.926108     15.145993     52.002160  \n",
       "std           3.056769      9.627468     28.033032  \n",
       "min           0.001000      0.022750     20.000000  \n",
       "25%           2.729000      8.355421     36.000000  \n",
       "50%           4.220000     12.834158     45.000000  \n",
       "75%           6.447000     19.518262     59.000000  \n",
       "max          19.886000    110.638750    959.000000  "
      ]
     },
     "execution_count": 280,
     "metadata": {},
     "output_type": "execute_result"
    }
   ],
   "source": [
    "multiple_ds.describe()"
   ]
  },
  {
   "cell_type": "markdown",
   "metadata": {},
   "source": [
    "5. To see how the time of the day affects the trip price"
   ]
  },
  {
   "cell_type": "code",
   "execution_count": 281,
   "metadata": {},
   "outputs": [
    {
     "data": {
      "text/plain": [
       "([0, 1, 2, 3, 4, 5, 6, 7, 8], <a list of 9 Text xticklabel objects>)"
      ]
     },
     "execution_count": 281,
     "metadata": {},
     "output_type": "execute_result"
    },
    {
     "data": {
      "image/png": "[encoded data removed]",
      "text/plain": [
       "<Figure size 432x288 with 1 Axes>"
      ]
     },
     "metadata": {
      "needs_background": "light"
     },
     "output_type": "display_data"
    }
   ],
   "source": [
    "plt.plot(Final_DS.groupby('timebin')['trip_fare'].mean())\n",
    "plt.xticks(rotation=90)"
   ]
  },
  {
   "cell_type": "markdown",
   "metadata": {},
   "source": [
    "**Findings:** *The trip rate is high in Night(12am to 5am), office start(7:30am to 10:30am) and late ight(10pm to 12pm)*"
   ]
  },
  {
   "cell_type": "markdown",
   "metadata": {},
   "source": [
    "6. To see how the trip fare changes as per the weekday and weekend"
   ]
  },
  {
   "cell_type": "code",
   "execution_count": 294,
   "metadata": {},
   "outputs": [
    {
     "data": {
      "text/plain": [
       "([0, 1, 2, 3, 4, 5, 6, 7, 8], <a list of 9 Text xticklabel objects>)"
      ]
     },
     "execution_count": 294,
     "metadata": {},
     "output_type": "execute_result"
    },
    {
     "data": {
      "image/png": "[encoded data removed]",
      "text/plain": [
       "<Figure size 432x288 with 1 Axes>"
      ]
     },
     "metadata": {
      "needs_background": "light"
     },
     "output_type": "display_data"
    }
   ],
   "source": [
    "plt.plot(Final_DS[Final_DS['day']=='Weekend'].groupby('timebin')['trip_fare'].mean(), color='blue')\n",
    "plt.plot(Final_DS[Final_DS['day']=='Weekday'].groupby('timebin')['trip_fare'].mean(), color='red')\n",
    "plt.xticks(rotation=90)"
   ]
  },
  {
   "cell_type": "markdown",
   "metadata": {},
   "source": [
    "**Findings:** *Weekend price is higher than weekday from 5:30 pm to 5am*"
   ]
  },
  {
   "cell_type": "markdown",
   "metadata": {},
   "source": [
    "7. To see how the number of trips is affecting by the weekday and weekend"
   ]
  },
  {
   "cell_type": "code",
   "execution_count": 296,
   "metadata": {},
   "outputs": [
    {
     "data": {
      "text/plain": [
       "([0, 1, 2, 3, 4, 5, 6, 7, 8], <a list of 9 Text xticklabel objects>)"
      ]
     },
     "execution_count": 296,
     "metadata": {},
     "output_type": "execute_result"
    },
    {
     "data": {
      "image/png": "[encoded data removed]",
      "text/plain": [
       "<Figure size 432x288 with 1 Axes>"
      ]
     },
     "metadata": {
      "needs_background": "light"
     },
     "output_type": "display_data"
    }
   ],
   "source": [
    "plt.plot(Final_DS[Final_DS['day']=='Weekend'].groupby('timebin')['trip_id'].count(), color='blue')\n",
    "plt.plot(Final_DS[Final_DS['day']=='Weekday'].groupby('timebin')['trip_id'].count(), color='red')\n",
    "plt.xticks(rotation=90)"
   ]
  },
  {
   "cell_type": "markdown",
   "metadata": {},
   "source": [
    "**Findings:** *Number of trips is higher on weekdays rather than weekend*"
   ]
  },
  {
   "cell_type": "markdown",
   "metadata": {},
   "source": [
    "### 5. Metric calculation"
   ]
  },
  {
   "cell_type": "markdown",
   "metadata": {},
   "source": [
    "1. To filter the first and the second trip of each customer (considering customers with multiple trips)"
   ]
  },
  {
   "cell_type": "code",
   "execution_count": 314,
   "metadata": {},
   "outputs": [],
   "source": [
    "multiple_ds.sort_values(by = ['customer_id','timestamp'], ascending = True,inplace = True)\n",
    "multiple_ds['trip no']=1\n",
    "multiple_ds['trip no'] = multiple_ds[['customer_id','trip no']].groupby(['customer_id'])['trip no'].apply(lambda x: x.cumsum())\n",
    "trip12 = multiple_ds[(multiple_ds['trip no']==1) | (multiple_ds['trip no']==2)]"
   ]
  },
  {
   "cell_type": "markdown",
   "metadata": {},
   "source": [
    "2. To create the pivot table containing the time diffrence between first and second trip for each customer"
   ]
  },
  {
   "cell_type": "code",
   "execution_count": 315,
   "metadata": {},
   "outputs": [
    {
     "data": {
      "text/html": [
       "<div>\n",
       "<style scoped>\n",
       "    .dataframe tbody tr th:only-of-type {\n",
       "        vertical-align: middle;\n",
       "    }\n",
       "\n",
       "    .dataframe tbody tr th {\n",
       "        vertical-align: top;\n",
       "    }\n",
       "\n",
       "    .dataframe thead th {\n",
       "        text-align: right;\n",
       "    }\n",
       "</style>\n",
       "<table border=\"1\" class=\"dataframe\">\n",
       "  <thead>\n",
       "    <tr style=\"text-align: right;\">\n",
       "      <th></th>\n",
       "      <th>customer_id</th>\n",
       "      <th>trip no 1</th>\n",
       "      <th>trip no 2</th>\n",
       "      <th>TimeDifference</th>\n",
       "    </tr>\n",
       "  </thead>\n",
       "  <tbody>\n",
       "    <tr>\n",
       "      <th>0</th>\n",
       "      <td>CUST_001</td>\n",
       "      <td>2019-01-05 13:54:50.138</td>\n",
       "      <td>2019-01-05 21:12:58.281</td>\n",
       "      <td>0.304261</td>\n",
       "    </tr>\n",
       "    <tr>\n",
       "      <th>1</th>\n",
       "      <td>CUST_003</td>\n",
       "      <td>2019-01-03 08:54:16.172</td>\n",
       "      <td>2019-01-04 10:45:29.008</td>\n",
       "      <td>1.077232</td>\n",
       "    </tr>\n",
       "    <tr>\n",
       "      <th>2</th>\n",
       "      <td>CUST_004</td>\n",
       "      <td>2019-01-02 00:56:48.503</td>\n",
       "      <td>2019-01-02 11:13:55.891</td>\n",
       "      <td>0.428558</td>\n",
       "    </tr>\n",
       "    <tr>\n",
       "      <th>3</th>\n",
       "      <td>CUST_005</td>\n",
       "      <td>2019-01-05 22:59:46.884</td>\n",
       "      <td>2019-01-06 13:17:26.409</td>\n",
       "      <td>0.595596</td>\n",
       "    </tr>\n",
       "    <tr>\n",
       "      <th>4</th>\n",
       "      <td>CUST_006</td>\n",
       "      <td>2019-01-02 13:01:05.381</td>\n",
       "      <td>2019-01-02 21:12:13.150</td>\n",
       "      <td>0.341062</td>\n",
       "    </tr>\n",
       "    <tr>\n",
       "      <th>...</th>\n",
       "      <td>...</td>\n",
       "      <td>...</td>\n",
       "      <td>...</td>\n",
       "      <td>...</td>\n",
       "    </tr>\n",
       "    <tr>\n",
       "      <th>9052</th>\n",
       "      <td>CUST_9992</td>\n",
       "      <td>2019-01-02 08:20:39.473</td>\n",
       "      <td>2019-01-05 08:17:06.464</td>\n",
       "      <td>2.997535</td>\n",
       "    </tr>\n",
       "    <tr>\n",
       "      <th>9053</th>\n",
       "      <td>CUST_9993</td>\n",
       "      <td>2019-01-02 08:20:44.776</td>\n",
       "      <td>2019-01-02 15:43:57.178</td>\n",
       "      <td>0.307782</td>\n",
       "    </tr>\n",
       "    <tr>\n",
       "      <th>9054</th>\n",
       "      <td>CUST_9994</td>\n",
       "      <td>2019-01-02 08:21:27.091</td>\n",
       "      <td>2019-01-02 19:12:11.907</td>\n",
       "      <td>0.451908</td>\n",
       "    </tr>\n",
       "    <tr>\n",
       "      <th>9055</th>\n",
       "      <td>CUST_9997</td>\n",
       "      <td>2019-01-02 08:22:06.693</td>\n",
       "      <td>2019-01-02 12:46:29.037</td>\n",
       "      <td>0.183592</td>\n",
       "    </tr>\n",
       "    <tr>\n",
       "      <th>9056</th>\n",
       "      <td>CUST_9998</td>\n",
       "      <td>2019-01-02 08:22:12.749</td>\n",
       "      <td>2019-01-02 11:13:03.370</td>\n",
       "      <td>0.118641</td>\n",
       "    </tr>\n",
       "  </tbody>\n",
       "</table>\n",
       "<p>9057 rows × 4 columns</p>\n",
       "</div>"
      ],
      "text/plain": [
       "     customer_id               trip no 1               trip no 2  \\\n",
       "0       CUST_001 2019-01-05 13:54:50.138 2019-01-05 21:12:58.281   \n",
       "1       CUST_003 2019-01-03 08:54:16.172 2019-01-04 10:45:29.008   \n",
       "2       CUST_004 2019-01-02 00:56:48.503 2019-01-02 11:13:55.891   \n",
       "3       CUST_005 2019-01-05 22:59:46.884 2019-01-06 13:17:26.409   \n",
       "4       CUST_006 2019-01-02 13:01:05.381 2019-01-02 21:12:13.150   \n",
       "...          ...                     ...                     ...   \n",
       "9052   CUST_9992 2019-01-02 08:20:39.473 2019-01-05 08:17:06.464   \n",
       "9053   CUST_9993 2019-01-02 08:20:44.776 2019-01-02 15:43:57.178   \n",
       "9054   CUST_9994 2019-01-02 08:21:27.091 2019-01-02 19:12:11.907   \n",
       "9055   CUST_9997 2019-01-02 08:22:06.693 2019-01-02 12:46:29.037   \n",
       "9056   CUST_9998 2019-01-02 08:22:12.749 2019-01-02 11:13:03.370   \n",
       "\n",
       "      TimeDifference  \n",
       "0           0.304261  \n",
       "1           1.077232  \n",
       "2           0.428558  \n",
       "3           0.595596  \n",
       "4           0.341062  \n",
       "...              ...  \n",
       "9052        2.997535  \n",
       "9053        0.307782  \n",
       "9054        0.451908  \n",
       "9055        0.183592  \n",
       "9056        0.118641  \n",
       "\n",
       "[9057 rows x 4 columns]"
      ]
     },
     "execution_count": 315,
     "metadata": {},
     "output_type": "execute_result"
    }
   ],
   "source": [
    "cust12 = pd.pivot_table(trip12,values = 'timestamp',\n",
    "                       index = 'customer_id',\n",
    "                       columns = 'trip no',\n",
    "                       aggfunc = min)\n",
    "\n",
    "cust12 = cust12.reset_index()\n",
    "cust12.columns = ['customer_id','trip no 1','trip no 2']\n",
    "cust12['TimeDifference'] = (cust12['trip no 2']-cust12['trip no 1']).dt.total_seconds()/(24*60*60)\n",
    "cust12"
   ]
  },
  {
   "cell_type": "markdown",
   "metadata": {},
   "source": [
    "3. To see the mean of time difference"
   ]
  },
  {
   "cell_type": "code",
   "execution_count": 316,
   "metadata": {},
   "outputs": [
    {
     "name": "stdout",
     "output_type": "stream",
     "text": [
      "1.034998617605473\n"
     ]
    },
    {
     "data": {
      "image/png": "[encoded data removed]",
      "text/plain": [
       "<Figure size 432x288 with 1 Axes>"
      ]
     },
     "metadata": {
      "needs_background": "light"
     },
     "output_type": "display_data"
    }
   ],
   "source": [
    "print(cust12['TimeDifference'].mean())\n",
    "cust12.boxplot(column=['TimeDifference'])\n",
    "ax = sns.boxplot(x=cust12['TimeDifference'])"
   ]
  },
  {
   "cell_type": "markdown",
   "metadata": {},
   "source": [
    "**Findings:** *The average duration between the 1st trip and the 2nd trip of customers considering only\n",
    "the customers who have done 2 or more trips is ~1 day*"
   ]
  },
  {
   "cell_type": "code",
   "execution_count": 317,
   "metadata": {},
   "outputs": [
    {
     "data": {
      "image/png": "[encoded data removed]",
      "text/plain": [
       "<Figure size 432x288 with 1 Axes>"
      ]
     },
     "metadata": {
      "needs_background": "light"
     },
     "output_type": "display_data"
    }
   ],
   "source": [
    "n, bins, patches = plt.hist(cust12.TimeDifference, bins='auto', facecolor='blue', alpha=0.5)"
   ]
  },
  {
   "cell_type": "markdown",
   "metadata": {},
   "source": [
    "4. To assign customer as potential user,non frequnt user and weekday commute user base on their trips"
   ]
  },
  {
   "cell_type": "code",
   "execution_count": 347,
   "metadata": {},
   "outputs": [
    {
     "ename": "TypeError",
     "evalue": "(\"'>' not supported between instances of 'str' and 'int'\", 'occurred at index 0')",
     "output_type": "error",
     "traceback": [
      "\u001b[1;31m---------------------------------------------------------------------------\u001b[0m",
      "\u001b[1;31mTypeError\u001b[0m                                 Traceback (most recent call last)",
      "\u001b[1;32m<ipython-input-347-d6ecd409d5b5>\u001b[0m in \u001b[0;36m<module>\u001b[1;34m\u001b[0m\n\u001b[0;32m      8\u001b[0m         \u001b[1;32mreturn\u001b[0m \u001b[1;34m'Not Frequent User'\u001b[0m\u001b[1;33m\u001b[0m\u001b[1;33m\u001b[0m\u001b[0m\n\u001b[0;32m      9\u001b[0m \u001b[1;33m\u001b[0m\u001b[0m\n\u001b[1;32m---> 10\u001b[1;33m \u001b[0mCust_no_of_trips\u001b[0m\u001b[1;33m[\u001b[0m\u001b[1;34m'User Segment'\u001b[0m\u001b[1;33m]\u001b[0m \u001b[1;33m=\u001b[0m \u001b[0mCust_no_of_trips\u001b[0m\u001b[1;33m.\u001b[0m\u001b[0mapply\u001b[0m\u001b[1;33m(\u001b[0m\u001b[1;32mlambda\u001b[0m \u001b[0mx\u001b[0m\u001b[1;33m:\u001b[0m\u001b[0mCustSegmnt\u001b[0m\u001b[1;33m(\u001b[0m\u001b[0mx\u001b[0m\u001b[1;33m)\u001b[0m\u001b[1;33m,\u001b[0m\u001b[0maxis\u001b[0m \u001b[1;33m=\u001b[0m \u001b[1;36m1\u001b[0m\u001b[1;33m)\u001b[0m\u001b[1;33m\u001b[0m\u001b[1;33m\u001b[0m\u001b[0m\n\u001b[0m\u001b[0;32m     11\u001b[0m \u001b[0mCust_no_of_trips\u001b[0m \u001b[1;33m=\u001b[0m \u001b[0mCust_no_of_trips\u001b[0m\u001b[1;33m.\u001b[0m\u001b[0mreset_index\u001b[0m\u001b[1;33m(\u001b[0m\u001b[1;33m)\u001b[0m\u001b[1;33m\u001b[0m\u001b[1;33m\u001b[0m\u001b[0m\n\u001b[0;32m     12\u001b[0m \u001b[1;33m\u001b[0m\u001b[0m\n",
      "\u001b[1;32mC:\\ProgramData\\Anaconda3\\lib\\site-packages\\pandas\\core\\frame.py\u001b[0m in \u001b[0;36mapply\u001b[1;34m(self, func, axis, broadcast, raw, reduce, result_type, args, **kwds)\u001b[0m\n\u001b[0;32m   6926\u001b[0m             \u001b[0mkwds\u001b[0m\u001b[1;33m=\u001b[0m\u001b[0mkwds\u001b[0m\u001b[1;33m,\u001b[0m\u001b[1;33m\u001b[0m\u001b[1;33m\u001b[0m\u001b[0m\n\u001b[0;32m   6927\u001b[0m         )\n\u001b[1;32m-> 6928\u001b[1;33m         \u001b[1;32mreturn\u001b[0m \u001b[0mop\u001b[0m\u001b[1;33m.\u001b[0m\u001b[0mget_result\u001b[0m\u001b[1;33m(\u001b[0m\u001b[1;33m)\u001b[0m\u001b[1;33m\u001b[0m\u001b[1;33m\u001b[0m\u001b[0m\n\u001b[0m\u001b[0;32m   6929\u001b[0m \u001b[1;33m\u001b[0m\u001b[0m\n\u001b[0;32m   6930\u001b[0m     \u001b[1;32mdef\u001b[0m \u001b[0mapplymap\u001b[0m\u001b[1;33m(\u001b[0m\u001b[0mself\u001b[0m\u001b[1;33m,\u001b[0m \u001b[0mfunc\u001b[0m\u001b[1;33m)\u001b[0m\u001b[1;33m:\u001b[0m\u001b[1;33m\u001b[0m\u001b[1;33m\u001b[0m\u001b[0m\n",
      "\u001b[1;32mC:\\ProgramData\\Anaconda3\\lib\\site-packages\\pandas\\core\\apply.py\u001b[0m in \u001b[0;36mget_result\u001b[1;34m(self)\u001b[0m\n\u001b[0;32m    184\u001b[0m             \u001b[1;32mreturn\u001b[0m \u001b[0mself\u001b[0m\u001b[1;33m.\u001b[0m\u001b[0mapply_raw\u001b[0m\u001b[1;33m(\u001b[0m\u001b[1;33m)\u001b[0m\u001b[1;33m\u001b[0m\u001b[1;33m\u001b[0m\u001b[0m\n\u001b[0;32m    185\u001b[0m \u001b[1;33m\u001b[0m\u001b[0m\n\u001b[1;32m--> 186\u001b[1;33m         \u001b[1;32mreturn\u001b[0m \u001b[0mself\u001b[0m\u001b[1;33m.\u001b[0m\u001b[0mapply_standard\u001b[0m\u001b[1;33m(\u001b[0m\u001b[1;33m)\u001b[0m\u001b[1;33m\u001b[0m\u001b[1;33m\u001b[0m\u001b[0m\n\u001b[0m\u001b[0;32m    187\u001b[0m \u001b[1;33m\u001b[0m\u001b[0m\n\u001b[0;32m    188\u001b[0m     \u001b[1;32mdef\u001b[0m \u001b[0mapply_empty_result\u001b[0m\u001b[1;33m(\u001b[0m\u001b[0mself\u001b[0m\u001b[1;33m)\u001b[0m\u001b[1;33m:\u001b[0m\u001b[1;33m\u001b[0m\u001b[1;33m\u001b[0m\u001b[0m\n",
      "\u001b[1;32mC:\\ProgramData\\Anaconda3\\lib\\site-packages\\pandas\\core\\apply.py\u001b[0m in \u001b[0;36mapply_standard\u001b[1;34m(self)\u001b[0m\n\u001b[0;32m    290\u001b[0m \u001b[1;33m\u001b[0m\u001b[0m\n\u001b[0;32m    291\u001b[0m         \u001b[1;31m# compute the result using the series generator\u001b[0m\u001b[1;33m\u001b[0m\u001b[1;33m\u001b[0m\u001b[1;33m\u001b[0m\u001b[0m\n\u001b[1;32m--> 292\u001b[1;33m         \u001b[0mself\u001b[0m\u001b[1;33m.\u001b[0m\u001b[0mapply_series_generator\u001b[0m\u001b[1;33m(\u001b[0m\u001b[1;33m)\u001b[0m\u001b[1;33m\u001b[0m\u001b[1;33m\u001b[0m\u001b[0m\n\u001b[0m\u001b[0;32m    293\u001b[0m \u001b[1;33m\u001b[0m\u001b[0m\n\u001b[0;32m    294\u001b[0m         \u001b[1;31m# wrap results\u001b[0m\u001b[1;33m\u001b[0m\u001b[1;33m\u001b[0m\u001b[1;33m\u001b[0m\u001b[0m\n",
      "\u001b[1;32mC:\\ProgramData\\Anaconda3\\lib\\site-packages\\pandas\\core\\apply.py\u001b[0m in \u001b[0;36mapply_series_generator\u001b[1;34m(self)\u001b[0m\n\u001b[0;32m    319\u001b[0m             \u001b[1;32mtry\u001b[0m\u001b[1;33m:\u001b[0m\u001b[1;33m\u001b[0m\u001b[1;33m\u001b[0m\u001b[0m\n\u001b[0;32m    320\u001b[0m                 \u001b[1;32mfor\u001b[0m \u001b[0mi\u001b[0m\u001b[1;33m,\u001b[0m \u001b[0mv\u001b[0m \u001b[1;32min\u001b[0m \u001b[0menumerate\u001b[0m\u001b[1;33m(\u001b[0m\u001b[0mseries_gen\u001b[0m\u001b[1;33m)\u001b[0m\u001b[1;33m:\u001b[0m\u001b[1;33m\u001b[0m\u001b[1;33m\u001b[0m\u001b[0m\n\u001b[1;32m--> 321\u001b[1;33m                     \u001b[0mresults\u001b[0m\u001b[1;33m[\u001b[0m\u001b[0mi\u001b[0m\u001b[1;33m]\u001b[0m \u001b[1;33m=\u001b[0m \u001b[0mself\u001b[0m\u001b[1;33m.\u001b[0m\u001b[0mf\u001b[0m\u001b[1;33m(\u001b[0m\u001b[0mv\u001b[0m\u001b[1;33m)\u001b[0m\u001b[1;33m\u001b[0m\u001b[1;33m\u001b[0m\u001b[0m\n\u001b[0m\u001b[0;32m    322\u001b[0m                     \u001b[0mkeys\u001b[0m\u001b[1;33m.\u001b[0m\u001b[0mappend\u001b[0m\u001b[1;33m(\u001b[0m\u001b[0mv\u001b[0m\u001b[1;33m.\u001b[0m\u001b[0mname\u001b[0m\u001b[1;33m)\u001b[0m\u001b[1;33m\u001b[0m\u001b[1;33m\u001b[0m\u001b[0m\n\u001b[0;32m    323\u001b[0m             \u001b[1;32mexcept\u001b[0m \u001b[0mException\u001b[0m \u001b[1;32mas\u001b[0m \u001b[0me\u001b[0m\u001b[1;33m:\u001b[0m\u001b[1;33m\u001b[0m\u001b[1;33m\u001b[0m\u001b[0m\n",
      "\u001b[1;32m<ipython-input-347-d6ecd409d5b5>\u001b[0m in \u001b[0;36m<lambda>\u001b[1;34m(x)\u001b[0m\n\u001b[0;32m      8\u001b[0m         \u001b[1;32mreturn\u001b[0m \u001b[1;34m'Not Frequent User'\u001b[0m\u001b[1;33m\u001b[0m\u001b[1;33m\u001b[0m\u001b[0m\n\u001b[0;32m      9\u001b[0m \u001b[1;33m\u001b[0m\u001b[0m\n\u001b[1;32m---> 10\u001b[1;33m \u001b[0mCust_no_of_trips\u001b[0m\u001b[1;33m[\u001b[0m\u001b[1;34m'User Segment'\u001b[0m\u001b[1;33m]\u001b[0m \u001b[1;33m=\u001b[0m \u001b[0mCust_no_of_trips\u001b[0m\u001b[1;33m.\u001b[0m\u001b[0mapply\u001b[0m\u001b[1;33m(\u001b[0m\u001b[1;32mlambda\u001b[0m \u001b[0mx\u001b[0m\u001b[1;33m:\u001b[0m\u001b[0mCustSegmnt\u001b[0m\u001b[1;33m(\u001b[0m\u001b[0mx\u001b[0m\u001b[1;33m)\u001b[0m\u001b[1;33m,\u001b[0m\u001b[0maxis\u001b[0m \u001b[1;33m=\u001b[0m \u001b[1;36m1\u001b[0m\u001b[1;33m)\u001b[0m\u001b[1;33m\u001b[0m\u001b[1;33m\u001b[0m\u001b[0m\n\u001b[0m\u001b[0;32m     11\u001b[0m \u001b[0mCust_no_of_trips\u001b[0m \u001b[1;33m=\u001b[0m \u001b[0mCust_no_of_trips\u001b[0m\u001b[1;33m.\u001b[0m\u001b[0mreset_index\u001b[0m\u001b[1;33m(\u001b[0m\u001b[1;33m)\u001b[0m\u001b[1;33m\u001b[0m\u001b[1;33m\u001b[0m\u001b[0m\n\u001b[0;32m     12\u001b[0m \u001b[1;33m\u001b[0m\u001b[0m\n",
      "\u001b[1;32m<ipython-input-347-d6ecd409d5b5>\u001b[0m in \u001b[0;36mCustSegmnt\u001b[1;34m(x)\u001b[0m\n\u001b[0;32m      1\u001b[0m \u001b[1;32mdef\u001b[0m \u001b[0mCustSegmnt\u001b[0m\u001b[1;33m(\u001b[0m\u001b[0mx\u001b[0m\u001b[1;33m)\u001b[0m\u001b[1;33m:\u001b[0m\u001b[1;33m\u001b[0m\u001b[1;33m\u001b[0m\u001b[0m\n\u001b[0;32m      2\u001b[0m     \u001b[0mx\u001b[0m \u001b[1;33m=\u001b[0m \u001b[0mlist\u001b[0m\u001b[1;33m(\u001b[0m\u001b[0mx\u001b[0m\u001b[1;33m)\u001b[0m\u001b[1;33m[\u001b[0m\u001b[1;36m2\u001b[0m\u001b[1;33m:\u001b[0m\u001b[1;36m8\u001b[0m\u001b[1;33m]\u001b[0m\u001b[1;33m\u001b[0m\u001b[1;33m\u001b[0m\u001b[0m\n\u001b[1;32m----> 3\u001b[1;33m     \u001b[1;32mif\u001b[0m \u001b[1;33m(\u001b[0m\u001b[0mx\u001b[0m\u001b[1;33m[\u001b[0m\u001b[1;36m0\u001b[0m\u001b[1;33m]\u001b[0m\u001b[1;33m>\u001b[0m\u001b[1;36m0\u001b[0m\u001b[1;33m)\u001b[0m \u001b[1;33m&\u001b[0m \u001b[1;33m(\u001b[0m\u001b[0mx\u001b[0m\u001b[1;33m[\u001b[0m\u001b[1;36m1\u001b[0m\u001b[1;33m]\u001b[0m\u001b[1;33m>\u001b[0m\u001b[1;36m0\u001b[0m\u001b[1;33m)\u001b[0m \u001b[1;33m&\u001b[0m \u001b[1;33m(\u001b[0m\u001b[0mx\u001b[0m\u001b[1;33m[\u001b[0m\u001b[1;36m5\u001b[0m\u001b[1;33m]\u001b[0m\u001b[1;33m>\u001b[0m\u001b[1;36m0\u001b[0m\u001b[1;33m)\u001b[0m \u001b[1;33m&\u001b[0m \u001b[1;33m(\u001b[0m\u001b[0mx\u001b[0m\u001b[1;33m[\u001b[0m\u001b[1;36m2\u001b[0m\u001b[1;33m]\u001b[0m\u001b[1;33m==\u001b[0m\u001b[1;36m0\u001b[0m\u001b[1;33m)\u001b[0m \u001b[1;33m&\u001b[0m \u001b[1;33m(\u001b[0m\u001b[0mx\u001b[0m\u001b[1;33m[\u001b[0m\u001b[1;36m3\u001b[0m\u001b[1;33m]\u001b[0m\u001b[1;33m==\u001b[0m\u001b[1;36m0\u001b[0m\u001b[1;33m)\u001b[0m\u001b[1;33m:\u001b[0m\u001b[1;33m\u001b[0m\u001b[1;33m\u001b[0m\u001b[0m\n\u001b[0m\u001b[0;32m      4\u001b[0m         \u001b[1;32mreturn\u001b[0m \u001b[1;34m'Weekday Commute User'\u001b[0m\u001b[1;33m\u001b[0m\u001b[1;33m\u001b[0m\u001b[0m\n\u001b[0;32m      5\u001b[0m     \u001b[1;32melif\u001b[0m \u001b[0msum\u001b[0m\u001b[1;33m(\u001b[0m\u001b[1;33m[\u001b[0m\u001b[0mi\u001b[0m\u001b[1;33m>\u001b[0m\u001b[1;36m0\u001b[0m \u001b[1;32mfor\u001b[0m \u001b[0mi\u001b[0m \u001b[1;32min\u001b[0m \u001b[0mx\u001b[0m \u001b[1;32mif\u001b[0m \u001b[1;33m(\u001b[0m\u001b[0mi\u001b[0m\u001b[1;33m>\u001b[0m\u001b[1;36m0\u001b[0m\u001b[1;33m)\u001b[0m\u001b[1;33m]\u001b[0m\u001b[1;33m)\u001b[0m\u001b[1;33m>\u001b[0m\u001b[1;36m4\u001b[0m\u001b[1;33m:\u001b[0m\u001b[1;33m\u001b[0m\u001b[1;33m\u001b[0m\u001b[0m\n",
      "\u001b[1;31mTypeError\u001b[0m: (\"'>' not supported between instances of 'str' and 'int'\", 'occurred at index 0')"
     ]
    }
   ],
   "source": [
    "def CustSegmnt(x):\n",
    "    x = list(x)[2:8]\n",
    "    if (x[0]>0) & (x[1]>0) & (x[5]>0) & (x[2]==0) & (x[3]==0):\n",
    "        return 'Weekday Commute User'\n",
    "    elif sum([i>0 for i in x if (i>0)])>4:\n",
    "        return 'Potential User'\n",
    "    else:\n",
    "        return 'Not Frequent User'\n",
    "    \n",
    "Cust_no_of_trips['User Segment'] = Cust_no_of_trips.apply(lambda x:CustSegmnt(x),axis = 1)\n",
    "Cust_no_of_trips = Cust_no_of_trips.reset_index()\n",
    "\n",
    "Final_DS = pd.merge(Final_DS,Cust_no_of_trips[['customer_id','User Segment']],how = 'left',on = 'customer_id')\n"
   ]
  },
  {
   "cell_type": "code",
   "execution_count": 351,
   "metadata": {},
   "outputs": [
    {
     "data": {
      "text/plain": [
       "User Segment\n",
       "Not Frequent User       17973\n",
       "Potential User            850\n",
       "Weekday Commute User      171\n",
       "Name: customer_id, dtype: int64"
      ]
     },
     "execution_count": 351,
     "metadata": {},
     "output_type": "execute_result"
    }
   ],
   "source": [
    "Final_DS.groupby('User Segment')['customer_id'].nunique()"
   ]
  },
  {
   "cell_type": "markdown",
   "metadata": {},
   "source": [
    "**Findings:** *171 users are using the ride every weekday, 850 users are the potential users and 17,973 are not frequent users*"
   ]
  },
  {
   "cell_type": "markdown",
   "metadata": {},
   "source": [
    "### 6. Model building"
   ]
  },
  {
   "cell_type": "code",
   "execution_count": 353,
   "metadata": {},
   "outputs": [
    {
     "data": {
      "text/plain": [
       "9.504558927223712"
      ]
     },
     "execution_count": 353,
     "metadata": {},
     "output_type": "execute_result"
    }
   ],
   "source": [
    "\n",
    "data = Final_DS[['travel_distance', 'travel_time', 'trip_fare']]\n",
    "X = data[['travel_distance', 'travel_time']]\n",
    "y = data[\"trip_fare\"]\n",
    "\n",
    "# Note the difference in argument order\n",
    "lm = linear_model.LinearRegression()\n",
    "model = lm.fit(X,y)\n",
    "predictions = model.predict(X) # make the predictions by the model\n",
    "pd.DataFrame({'travel_distance':[3.5],\n",
    "              'travel_time':[15]})\n",
    "# Print out the statistics\n",
    "model.predict(pd.DataFrame({'travel_distance':[3.5],'travel_time':[15]}))\n",
    "model.coef_\n",
    "model.intercept_\n"
   ]
  },
  {
   "cell_type": "code",
   "execution_count": 357,
   "metadata": {},
   "outputs": [
    {
     "data": {
      "text/plain": [
       "0    40.27349\n",
       "dtype: float64"
      ]
     },
     "execution_count": 357,
     "metadata": {},
     "output_type": "execute_result"
    }
   ],
   "source": [
    "\n",
    "X = data[['travel_distance', 'travel_time']]\n",
    "y = data[\"trip_fare\"]\n",
    "X = sm.add_constant(X)\n",
    "model = sm.OLS(y, X).fit()\n",
    "model.predict(pd.DataFrame({'const':1,'travel_distance':[3.5],'travel_time':[15]}))\n"
   ]
  },
  {
   "cell_type": "code",
   "execution_count": 356,
   "metadata": {},
   "outputs": [
    {
     "data": {
      "text/html": [
       "<table class=\"simpletable\">\n",
       "<caption>OLS Regression Results</caption>\n",
       "<tr>\n",
       "  <th>Dep. Variable:</th>        <td>trip_fare</td>    <th>  R-squared:         </th>  <td>   0.876</td>  \n",
       "</tr>\n",
       "<tr>\n",
       "  <th>Model:</th>                   <td>OLS</td>       <th>  Adj. R-squared:    </th>  <td>   0.876</td>  \n",
       "</tr>\n",
       "<tr>\n",
       "  <th>Method:</th>             <td>Least Squares</td>  <th>  F-statistic:       </th>  <td>1.560e+05</td> \n",
       "</tr>\n",
       "<tr>\n",
       "  <th>Date:</th>             <td>Sun, 19 Jan 2020</td> <th>  Prob (F-statistic):</th>   <td>  0.00</td>   \n",
       "</tr>\n",
       "<tr>\n",
       "  <th>Time:</th>                 <td>22:56:27</td>     <th>  Log-Likelihood:    </th> <td>-1.6565e+05</td>\n",
       "</tr>\n",
       "<tr>\n",
       "  <th>No. Observations:</th>      <td> 44191</td>      <th>  AIC:               </th>  <td>3.313e+05</td> \n",
       "</tr>\n",
       "<tr>\n",
       "  <th>Df Residuals:</th>          <td> 44188</td>      <th>  BIC:               </th>  <td>3.313e+05</td> \n",
       "</tr>\n",
       "<tr>\n",
       "  <th>Df Model:</th>              <td>     2</td>      <th>                     </th>      <td> </td>     \n",
       "</tr>\n",
       "<tr>\n",
       "  <th>Covariance Type:</th>      <td>nonrobust</td>    <th>                     </th>      <td> </td>     \n",
       "</tr>\n",
       "</table>\n",
       "<table class=\"simpletable\">\n",
       "<tr>\n",
       "         <td></td>            <th>coef</th>     <th>std err</th>      <th>t</th>      <th>P>|t|</th>  <th>[0.025</th>    <th>0.975]</th>  \n",
       "</tr>\n",
       "<tr>\n",
       "  <th>const</th>           <td>    9.5046</td> <td>    0.094</td> <td>  100.879</td> <td> 0.000</td> <td>    9.320</td> <td>    9.689</td>\n",
       "</tr>\n",
       "<tr>\n",
       "  <th>travel_distance</th> <td>    8.2812</td> <td>    0.027</td> <td>  302.086</td> <td> 0.000</td> <td>    8.227</td> <td>    8.335</td>\n",
       "</tr>\n",
       "<tr>\n",
       "  <th>travel_time</th>     <td>    0.1190</td> <td>    0.009</td> <td>   13.628</td> <td> 0.000</td> <td>    0.102</td> <td>    0.136</td>\n",
       "</tr>\n",
       "</table>\n",
       "<table class=\"simpletable\">\n",
       "<tr>\n",
       "  <th>Omnibus:</th>       <td>139769.308</td> <th>  Durbin-Watson:     </th>    <td>   2.006</td>    \n",
       "</tr>\n",
       "<tr>\n",
       "  <th>Prob(Omnibus):</th>   <td> 0.000</td>   <th>  Jarque-Bera (JB):  </th> <td>37522038673.545</td>\n",
       "</tr>\n",
       "<tr>\n",
       "  <th>Skew:</th>            <td>50.496</td>   <th>  Prob(JB):          </th>    <td>    0.00</td>    \n",
       "</tr>\n",
       "<tr>\n",
       "  <th>Kurtosis:</th>       <td>4516.082</td>  <th>  Cond. No.          </th>    <td>    37.4</td>    \n",
       "</tr>\n",
       "</table><br/><br/>Warnings:<br/>[1] Standard Errors assume that the covariance matrix of the errors is correctly specified."
      ],
      "text/plain": [
       "<class 'statsmodels.iolib.summary.Summary'>\n",
       "\"\"\"\n",
       "                            OLS Regression Results                            \n",
       "==============================================================================\n",
       "Dep. Variable:              trip_fare   R-squared:                       0.876\n",
       "Model:                            OLS   Adj. R-squared:                  0.876\n",
       "Method:                 Least Squares   F-statistic:                 1.560e+05\n",
       "Date:                Sun, 19 Jan 2020   Prob (F-statistic):               0.00\n",
       "Time:                        22:56:27   Log-Likelihood:            -1.6565e+05\n",
       "No. Observations:               44191   AIC:                         3.313e+05\n",
       "Df Residuals:                   44188   BIC:                         3.313e+05\n",
       "Df Model:                           2                                         \n",
       "Covariance Type:            nonrobust                                         \n",
       "===================================================================================\n",
       "                      coef    std err          t      P>|t|      [0.025      0.975]\n",
       "-----------------------------------------------------------------------------------\n",
       "const               9.5046      0.094    100.879      0.000       9.320       9.689\n",
       "travel_distance     8.2812      0.027    302.086      0.000       8.227       8.335\n",
       "travel_time         0.1190      0.009     13.628      0.000       0.102       0.136\n",
       "==============================================================================\n",
       "Omnibus:                   139769.308   Durbin-Watson:                   2.006\n",
       "Prob(Omnibus):                  0.000   Jarque-Bera (JB):      37522038673.545\n",
       "Skew:                          50.496   Prob(JB):                         0.00\n",
       "Kurtosis:                    4516.082   Cond. No.                         37.4\n",
       "==============================================================================\n",
       "\n",
       "Warnings:\n",
       "[1] Standard Errors assume that the covariance matrix of the errors is correctly specified.\n",
       "\"\"\""
      ]
     },
     "execution_count": 356,
     "metadata": {},
     "output_type": "execute_result"
    }
   ],
   "source": [
    "model.summary()"
   ]
  },
  {
   "cell_type": "code",
   "execution_count": null,
   "metadata": {},
   "outputs": [],
   "source": []
  }
 ],
 "metadata": {
  "kernelspec": {
   "display_name": "Python 3",
   "language": "python",
   "name": "python3"
  },
  "language_info": {
   "codemirror_mode": {
    "name": "ipython",
    "version": 3
   },
   "file_extension": ".py",
   "mimetype": "text/x-python",
   "name": "python",
   "nbconvert_exporter": "python",
   "pygments_lexer": "ipython3",
   "version": "3.7.4"
  }
 },
 "nbformat": 4,
 "nbformat_minor": 2
}
